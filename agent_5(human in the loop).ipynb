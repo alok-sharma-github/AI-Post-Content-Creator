{
 "cells": [
  {
   "cell_type": "code",
   "execution_count": 1,
   "metadata": {},
   "outputs": [],
   "source": [
    "from langgraph.graph import StateGraph, END\n",
    "\n",
    "# to construct agent state\n",
    "from typing import TypedDict, Annotated\n",
    "import operator\n",
    "\n",
    "# to construct human, ai and system messages\n",
    "from langchain_core.messages import AnyMessage, SystemMessage, HumanMessage, ToolMessage\n",
    "\n",
    "# llm \n",
    "from langchain_ollama import ChatOllama\n",
    "\n",
    "# tool\n",
    "from langchain_community.tools.tavily_search import TavilySearchResults"
   ]
  },
  {
   "cell_type": "code",
   "execution_count": 2,
   "metadata": {},
   "outputs": [],
   "source": [
    "# old\n",
    "import os\n",
    "TAVILY_API_KEY = \"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\"\n",
    "os.environ[\"TAVILY_API_KEY\"] = TAVILY_API_KEY"
   ]
  },
  {
   "cell_type": "code",
   "execution_count": 3,
   "metadata": {},
   "outputs": [],
   "source": [
    "# old\n",
    "from langgraph.checkpoint.sqlite import SqliteSaver\n",
    "memory = SqliteSaver.from_conn_string(\":memory:\")"
   ]
  },
  {
   "cell_type": "code",
   "execution_count": 4,
   "metadata": {},
   "outputs": [],
   "source": [
    "from uuid import uuid4\n",
    "from langchain_core.messages import AnyMessage, SystemMessage, HumanMessage, AIMessage\n",
    "\n",
    "\"\"\"\n",
    "In previous examples we've annotated the `messages` state key\n",
    "with the default `operator.add` or `+` reducer, which always\n",
    "appends new messages to the end of the existing messages array.\n",
    "\n",
    "Now, to support replacing existing messages, we annotate the\n",
    "`messages` key with a customer reducer function, which replaces\n",
    "messages with the same `id`, and appends them otherwise.\n",
    "\"\"\"\n",
    "def reduce_messages(left: list[AnyMessage], right: list[AnyMessage]) -> list[AnyMessage]:\n",
    "    # assign ids to messages that don't have them\n",
    "    for message in right:\n",
    "        if not message.id:\n",
    "            message.id = str(uuid4())\n",
    "    # merge the new messages with the existing messages\n",
    "    merged = left.copy()\n",
    "    for message in right:\n",
    "        for i, existing in enumerate(merged):\n",
    "            # replace any existing messages with the same id\n",
    "            if existing.id == message.id:\n",
    "                merged[i] = message\n",
    "                break\n",
    "        else:\n",
    "            # append any new messages to the end\n",
    "            merged.append(message)\n",
    "    return merged\n",
    "\n",
    "class AgentState(TypedDict):\n",
    "    messages: Annotated[list[AnyMessage], reduce_messages]"
   ]
  },
  {
   "cell_type": "code",
   "execution_count": 5,
   "metadata": {},
   "outputs": [],
   "source": [
    "#old [modified]\n",
    "class Agent:\n",
    "    def __init__(self, model, tools, system=\"\", checkpointer=None):\n",
    "        self.system = system\n",
    "        graph = StateGraph(AgentState)\n",
    "        graph.add_node(\"llm\", self.call_openai)\n",
    "        graph.add_node(\"action\", self.take_action)\n",
    "        graph.add_conditional_edges(\"llm\", self.exists_action, {True: \"action\", False: END})\n",
    "        graph.add_edge(\"action\", \"llm\")\n",
    "        graph.set_entry_point(\"llm\")\n",
    "        self.graph = graph.compile(\n",
    "            checkpointer=checkpointer,\n",
    "            interrupt_before=[\"action\"] ### added for manual approval\n",
    "        )\n",
    "        self.tools = {t.name: t for t in tools}\n",
    "        self.model = model.bind_tools(tools) ### called before action\n",
    "\n",
    "    def call_openai(self, state: AgentState):\n",
    "        messages = state['messages']\n",
    "        if self.system:\n",
    "            messages = [SystemMessage(content=self.system)] + messages\n",
    "        message = self.model.invoke(messages)\n",
    "        return {'messages': [message]}\n",
    "\n",
    "    def exists_action(self, state: AgentState):\n",
    "        print(state)\n",
    "        result = state['messages'][-1]\n",
    "        return len(result.tool_calls) > 0\n",
    "\n",
    "    def take_action(self, state: AgentState):\n",
    "        tool_calls = state['messages'][-1].tool_calls\n",
    "        results = []\n",
    "        for t in tool_calls:\n",
    "            print(f\"Calling: {t}\")\n",
    "            result = self.tools[t['name']].invoke(t['args'])\n",
    "            results.append(ToolMessage(tool_call_id=t['id'], name=t['name'], content=str(result)))\n",
    "        print(\"Back to the model!\")\n",
    "        return {'messages': results}"
   ]
  },
  {
   "cell_type": "code",
   "execution_count": 6,
   "metadata": {},
   "outputs": [
    {
     "ename": "ValidationError",
     "evalue": "1 validation error for CompiledStateGraph\ncheckpointer\n  instance of BaseCheckpointSaver expected (type=type_error.arbitrary_type; expected_arbitrary_type=BaseCheckpointSaver)",
     "output_type": "error",
     "traceback": [
      "\u001b[1;31m---------------------------------------------------------------------------\u001b[0m",
      "\u001b[1;31mValidationError\u001b[0m                           Traceback (most recent call last)",
      "Cell \u001b[1;32mIn[6], line 11\u001b[0m\n\u001b[0;32m      7\u001b[0m model \u001b[38;5;241m=\u001b[39m ChatOllama(model\u001b[38;5;241m=\u001b[39m\u001b[38;5;124m\"\u001b[39m\u001b[38;5;124mllama3.1\u001b[39m\u001b[38;5;124m\"\u001b[39m)\n\u001b[0;32m      9\u001b[0m tool \u001b[38;5;241m=\u001b[39m TavilySearchResults(max_results\u001b[38;5;241m=\u001b[39m\u001b[38;5;241m2\u001b[39m)\n\u001b[1;32m---> 11\u001b[0m abot \u001b[38;5;241m=\u001b[39m \u001b[43mAgent\u001b[49m\u001b[43m(\u001b[49m\u001b[43mmodel\u001b[49m\u001b[43m,\u001b[49m\u001b[43m \u001b[49m\u001b[43m[\u001b[49m\u001b[43mtool\u001b[49m\u001b[43m]\u001b[49m\u001b[43m,\u001b[49m\u001b[43m \u001b[49m\u001b[43msystem\u001b[49m\u001b[38;5;241;43m=\u001b[39;49m\u001b[43mprompt\u001b[49m\u001b[43m,\u001b[49m\u001b[43m \u001b[49m\u001b[43mcheckpointer\u001b[49m\u001b[38;5;241;43m=\u001b[39;49m\u001b[43mmemory\u001b[49m\u001b[43m)\u001b[49m\n",
      "Cell \u001b[1;32mIn[5], line 11\u001b[0m, in \u001b[0;36mAgent.__init__\u001b[1;34m(self, model, tools, system, checkpointer)\u001b[0m\n\u001b[0;32m      9\u001b[0m graph\u001b[38;5;241m.\u001b[39madd_edge(\u001b[38;5;124m\"\u001b[39m\u001b[38;5;124maction\u001b[39m\u001b[38;5;124m\"\u001b[39m, \u001b[38;5;124m\"\u001b[39m\u001b[38;5;124mllm\u001b[39m\u001b[38;5;124m\"\u001b[39m)\n\u001b[0;32m     10\u001b[0m graph\u001b[38;5;241m.\u001b[39mset_entry_point(\u001b[38;5;124m\"\u001b[39m\u001b[38;5;124mllm\u001b[39m\u001b[38;5;124m\"\u001b[39m)\n\u001b[1;32m---> 11\u001b[0m \u001b[38;5;28mself\u001b[39m\u001b[38;5;241m.\u001b[39mgraph \u001b[38;5;241m=\u001b[39m \u001b[43mgraph\u001b[49m\u001b[38;5;241;43m.\u001b[39;49m\u001b[43mcompile\u001b[49m\u001b[43m(\u001b[49m\n\u001b[0;32m     12\u001b[0m \u001b[43m    \u001b[49m\u001b[43mcheckpointer\u001b[49m\u001b[38;5;241;43m=\u001b[39;49m\u001b[43mcheckpointer\u001b[49m\u001b[43m,\u001b[49m\n\u001b[0;32m     13\u001b[0m \u001b[43m    \u001b[49m\u001b[43minterrupt_before\u001b[49m\u001b[38;5;241;43m=\u001b[39;49m\u001b[43m[\u001b[49m\u001b[38;5;124;43m\"\u001b[39;49m\u001b[38;5;124;43maction\u001b[39;49m\u001b[38;5;124;43m\"\u001b[39;49m\u001b[43m]\u001b[49m\u001b[43m \u001b[49m\u001b[38;5;66;43;03m### added for manual approval\u001b[39;49;00m\n\u001b[0;32m     14\u001b[0m \u001b[43m\u001b[49m\u001b[43m)\u001b[49m\n\u001b[0;32m     15\u001b[0m \u001b[38;5;28mself\u001b[39m\u001b[38;5;241m.\u001b[39mtools \u001b[38;5;241m=\u001b[39m {t\u001b[38;5;241m.\u001b[39mname: t \u001b[38;5;28;01mfor\u001b[39;00m t \u001b[38;5;129;01min\u001b[39;00m tools}\n\u001b[0;32m     16\u001b[0m \u001b[38;5;28mself\u001b[39m\u001b[38;5;241m.\u001b[39mmodel \u001b[38;5;241m=\u001b[39m model\u001b[38;5;241m.\u001b[39mbind_tools(tools)\n",
      "File \u001b[1;32mp:\\.env\\Lib\\site-packages\\langgraph\\graph\\state.py:431\u001b[0m, in \u001b[0;36mStateGraph.compile\u001b[1;34m(self, checkpointer, interrupt_before, interrupt_after, debug)\u001b[0m\n\u001b[0;32m    411\u001b[0m output_channels \u001b[38;5;241m=\u001b[39m (\n\u001b[0;32m    412\u001b[0m     \u001b[38;5;124m\"\u001b[39m\u001b[38;5;124m__root__\u001b[39m\u001b[38;5;124m\"\u001b[39m\n\u001b[0;32m    413\u001b[0m     \u001b[38;5;28;01mif\u001b[39;00m \u001b[38;5;28mlen\u001b[39m(\u001b[38;5;28mself\u001b[39m\u001b[38;5;241m.\u001b[39mschemas[\u001b[38;5;28mself\u001b[39m\u001b[38;5;241m.\u001b[39moutput]) \u001b[38;5;241m==\u001b[39m \u001b[38;5;241m1\u001b[39m\n\u001b[1;32m   (...)\u001b[0m\n\u001b[0;32m    419\u001b[0m     ]\n\u001b[0;32m    420\u001b[0m )\n\u001b[0;32m    421\u001b[0m stream_channels \u001b[38;5;241m=\u001b[39m (\n\u001b[0;32m    422\u001b[0m     \u001b[38;5;124m\"\u001b[39m\u001b[38;5;124m__root__\u001b[39m\u001b[38;5;124m\"\u001b[39m\n\u001b[0;32m    423\u001b[0m     \u001b[38;5;28;01mif\u001b[39;00m \u001b[38;5;28mlen\u001b[39m(\u001b[38;5;28mself\u001b[39m\u001b[38;5;241m.\u001b[39mchannels) \u001b[38;5;241m==\u001b[39m \u001b[38;5;241m1\u001b[39m \u001b[38;5;129;01mand\u001b[39;00m \u001b[38;5;124m\"\u001b[39m\u001b[38;5;124m__root__\u001b[39m\u001b[38;5;124m\"\u001b[39m \u001b[38;5;129;01min\u001b[39;00m \u001b[38;5;28mself\u001b[39m\u001b[38;5;241m.\u001b[39mchannels\n\u001b[1;32m   (...)\u001b[0m\n\u001b[0;32m    428\u001b[0m     ]\n\u001b[0;32m    429\u001b[0m )\n\u001b[1;32m--> 431\u001b[0m compiled \u001b[38;5;241m=\u001b[39m \u001b[43mCompiledStateGraph\u001b[49m\u001b[43m(\u001b[49m\n\u001b[0;32m    432\u001b[0m \u001b[43m    \u001b[49m\u001b[43mbuilder\u001b[49m\u001b[38;5;241;43m=\u001b[39;49m\u001b[38;5;28;43mself\u001b[39;49m\u001b[43m,\u001b[49m\n\u001b[0;32m    433\u001b[0m \u001b[43m    \u001b[49m\u001b[43mconfig_type\u001b[49m\u001b[38;5;241;43m=\u001b[39;49m\u001b[38;5;28;43mself\u001b[39;49m\u001b[38;5;241;43m.\u001b[39;49m\u001b[43mconfig_schema\u001b[49m\u001b[43m,\u001b[49m\n\u001b[0;32m    434\u001b[0m \u001b[43m    \u001b[49m\u001b[43mnodes\u001b[49m\u001b[38;5;241;43m=\u001b[39;49m\u001b[43m{\u001b[49m\u001b[43m}\u001b[49m\u001b[43m,\u001b[49m\n\u001b[0;32m    435\u001b[0m \u001b[43m    \u001b[49m\u001b[43mchannels\u001b[49m\u001b[38;5;241;43m=\u001b[39;49m\u001b[43m{\u001b[49m\u001b[38;5;241;43m*\u001b[39;49m\u001b[38;5;241;43m*\u001b[39;49m\u001b[38;5;28;43mself\u001b[39;49m\u001b[38;5;241;43m.\u001b[39;49m\u001b[43mchannels\u001b[49m\u001b[43m,\u001b[49m\u001b[43m \u001b[49m\u001b[43mSTART\u001b[49m\u001b[43m:\u001b[49m\u001b[43m \u001b[49m\u001b[43mEphemeralValue\u001b[49m\u001b[43m(\u001b[49m\u001b[38;5;28;43mself\u001b[39;49m\u001b[38;5;241;43m.\u001b[39;49m\u001b[43minput\u001b[49m\u001b[43m)\u001b[49m\u001b[43m}\u001b[49m\u001b[43m,\u001b[49m\n\u001b[0;32m    436\u001b[0m \u001b[43m    \u001b[49m\u001b[43minput_channels\u001b[49m\u001b[38;5;241;43m=\u001b[39;49m\u001b[43mSTART\u001b[49m\u001b[43m,\u001b[49m\n\u001b[0;32m    437\u001b[0m \u001b[43m    \u001b[49m\u001b[43mstream_mode\u001b[49m\u001b[38;5;241;43m=\u001b[39;49m\u001b[38;5;124;43m\"\u001b[39;49m\u001b[38;5;124;43mupdates\u001b[39;49m\u001b[38;5;124;43m\"\u001b[39;49m\u001b[43m,\u001b[49m\n\u001b[0;32m    438\u001b[0m \u001b[43m    \u001b[49m\u001b[43moutput_channels\u001b[49m\u001b[38;5;241;43m=\u001b[39;49m\u001b[43moutput_channels\u001b[49m\u001b[43m,\u001b[49m\n\u001b[0;32m    439\u001b[0m \u001b[43m    \u001b[49m\u001b[43mstream_channels\u001b[49m\u001b[38;5;241;43m=\u001b[39;49m\u001b[43mstream_channels\u001b[49m\u001b[43m,\u001b[49m\n\u001b[0;32m    440\u001b[0m \u001b[43m    \u001b[49m\u001b[43mcheckpointer\u001b[49m\u001b[38;5;241;43m=\u001b[39;49m\u001b[43mcheckpointer\u001b[49m\u001b[43m,\u001b[49m\n\u001b[0;32m    441\u001b[0m \u001b[43m    \u001b[49m\u001b[43minterrupt_before_nodes\u001b[49m\u001b[38;5;241;43m=\u001b[39;49m\u001b[43minterrupt_before\u001b[49m\u001b[43m,\u001b[49m\n\u001b[0;32m    442\u001b[0m \u001b[43m    \u001b[49m\u001b[43minterrupt_after_nodes\u001b[49m\u001b[38;5;241;43m=\u001b[39;49m\u001b[43minterrupt_after\u001b[49m\u001b[43m,\u001b[49m\n\u001b[0;32m    443\u001b[0m \u001b[43m    \u001b[49m\u001b[43mauto_validate\u001b[49m\u001b[38;5;241;43m=\u001b[39;49m\u001b[38;5;28;43;01mFalse\u001b[39;49;00m\u001b[43m,\u001b[49m\n\u001b[0;32m    444\u001b[0m \u001b[43m    \u001b[49m\u001b[43mdebug\u001b[49m\u001b[38;5;241;43m=\u001b[39;49m\u001b[43mdebug\u001b[49m\u001b[43m,\u001b[49m\n\u001b[0;32m    445\u001b[0m \u001b[43m\u001b[49m\u001b[43m)\u001b[49m\n\u001b[0;32m    447\u001b[0m compiled\u001b[38;5;241m.\u001b[39mattach_node(START, \u001b[38;5;28;01mNone\u001b[39;00m)\n\u001b[0;32m    448\u001b[0m \u001b[38;5;28;01mfor\u001b[39;00m key, node \u001b[38;5;129;01min\u001b[39;00m \u001b[38;5;28mself\u001b[39m\u001b[38;5;241m.\u001b[39mnodes\u001b[38;5;241m.\u001b[39mitems():\n",
      "File \u001b[1;32mp:\\.env\\Lib\\site-packages\\langchain_core\\load\\serializable.py:113\u001b[0m, in \u001b[0;36mSerializable.__init__\u001b[1;34m(self, *args, **kwargs)\u001b[0m\n\u001b[0;32m    111\u001b[0m \u001b[38;5;28;01mdef\u001b[39;00m \u001b[38;5;21m__init__\u001b[39m(\u001b[38;5;28mself\u001b[39m, \u001b[38;5;241m*\u001b[39margs: Any, \u001b[38;5;241m*\u001b[39m\u001b[38;5;241m*\u001b[39mkwargs: Any) \u001b[38;5;241m-\u001b[39m\u001b[38;5;241m>\u001b[39m \u001b[38;5;28;01mNone\u001b[39;00m:\n\u001b[0;32m    112\u001b[0m \u001b[38;5;250m    \u001b[39m\u001b[38;5;124;03m\"\"\"\"\"\"\u001b[39;00m\n\u001b[1;32m--> 113\u001b[0m     \u001b[38;5;28;43msuper\u001b[39;49m\u001b[43m(\u001b[49m\u001b[43m)\u001b[49m\u001b[38;5;241;43m.\u001b[39;49m\u001b[38;5;21;43m__init__\u001b[39;49m\u001b[43m(\u001b[49m\u001b[38;5;241;43m*\u001b[39;49m\u001b[43margs\u001b[49m\u001b[43m,\u001b[49m\u001b[43m \u001b[49m\u001b[38;5;241;43m*\u001b[39;49m\u001b[38;5;241;43m*\u001b[39;49m\u001b[43mkwargs\u001b[49m\u001b[43m)\u001b[49m\n",
      "File \u001b[1;32mp:\\.env\\Lib\\site-packages\\pydantic\\v1\\main.py:341\u001b[0m, in \u001b[0;36mBaseModel.__init__\u001b[1;34m(__pydantic_self__, **data)\u001b[0m\n\u001b[0;32m    339\u001b[0m values, fields_set, validation_error \u001b[38;5;241m=\u001b[39m validate_model(__pydantic_self__\u001b[38;5;241m.\u001b[39m\u001b[38;5;18m__class__\u001b[39m, data)\n\u001b[0;32m    340\u001b[0m \u001b[38;5;28;01mif\u001b[39;00m validation_error:\n\u001b[1;32m--> 341\u001b[0m     \u001b[38;5;28;01mraise\u001b[39;00m validation_error\n\u001b[0;32m    342\u001b[0m \u001b[38;5;28;01mtry\u001b[39;00m:\n\u001b[0;32m    343\u001b[0m     object_setattr(__pydantic_self__, \u001b[38;5;124m'\u001b[39m\u001b[38;5;124m__dict__\u001b[39m\u001b[38;5;124m'\u001b[39m, values)\n",
      "\u001b[1;31mValidationError\u001b[0m: 1 validation error for CompiledStateGraph\ncheckpointer\n  instance of BaseCheckpointSaver expected (type=type_error.arbitrary_type; expected_arbitrary_type=BaseCheckpointSaver)"
     ]
    }
   ],
   "source": [
    "prompt = \"\"\"You are a smart research assistant. Use the search engine to look up information. \\\n",
    "You are allowed to make multiple calls (either together or in sequence). \\\n",
    "Only look up information when you are sure of what you want. \\\n",
    "If you need to look up some information before asking a follow up question, you are allowed to do that!\n",
    "\"\"\"\n",
    "\n",
    "model = ChatOllama(model=\"llama3.1\")\n",
    "\n",
    "tool = TavilySearchResults(max_results=2)\n",
    "\n",
    "abot = Agent(model, [tool], system=prompt, checkpointer=memory)"
   ]
  },
  {
   "cell_type": "code",
   "execution_count": 7,
   "metadata": {},
   "outputs": [
    {
     "name": "stdout",
     "output_type": "stream",
     "text": [
      "{'messages': [HumanMessage(content='What is the weather in sf?', id='6da9c792-36d4-417e-b401-7cf57bf1e726'), AIMessage(content='', response_metadata={'model': 'llama3.1', 'created_at': '2024-08-12T12:15:04.38621Z', 'message': {'role': 'assistant', 'content': '', 'tool_calls': [{'function': {'name': 'tavily_search_results_json', 'arguments': {'query': 'sf weather'}}}]}, 'done_reason': 'stop', 'done': True, 'total_duration': 31376375300, 'load_duration': 21196892100, 'prompt_eval_count': 249, 'prompt_eval_duration': 2830293000, 'eval_count': 22, 'eval_duration': 6540612000}, id='run-95302bdc-0fe1-4957-8a25-dae431504340-0', tool_calls=[{'name': 'tavily_search_results_json', 'args': {'query': 'sf weather'}, 'id': '6a88d71a-5284-4886-b585-68783f051089', 'type': 'tool_call'}], usage_metadata={'input_tokens': 249, 'output_tokens': 22, 'total_tokens': 271})]}\n",
      "[AIMessage(content='', response_metadata={'model': 'llama3.1', 'created_at': '2024-08-12T12:15:04.38621Z', 'message': {'role': 'assistant', 'content': '', 'tool_calls': [{'function': {'name': 'tavily_search_results_json', 'arguments': {'query': 'sf weather'}}}]}, 'done_reason': 'stop', 'done': True, 'total_duration': 31376375300, 'load_duration': 21196892100, 'prompt_eval_count': 249, 'prompt_eval_duration': 2830293000, 'eval_count': 22, 'eval_duration': 6540612000}, id='run-95302bdc-0fe1-4957-8a25-dae431504340-0', tool_calls=[{'name': 'tavily_search_results_json', 'args': {'query': 'sf weather'}, 'id': '6a88d71a-5284-4886-b585-68783f051089', 'type': 'tool_call'}], usage_metadata={'input_tokens': 249, 'output_tokens': 22, 'total_tokens': 271})]\n"
     ]
    }
   ],
   "source": [
    "messages = [HumanMessage(content=\"What is the weather in sf?\")]\n",
    "thread = {\"configurable\": {\"thread_id\": \"1\"}}\n",
    "for event in abot.graph.stream({\"messages\": messages}, thread):\n",
    "    for v in event.values():\n",
    "        print(v['messages'])"
   ]
  },
  {
   "cell_type": "markdown",
   "metadata": {},
   "source": [
    "get current state"
   ]
  },
  {
   "cell_type": "code",
   "execution_count": 8,
   "metadata": {},
   "outputs": [
    {
     "data": {
      "text/plain": [
       "StateSnapshot(values={'messages': [HumanMessage(content='What is the weather in sf?', id='6da9c792-36d4-417e-b401-7cf57bf1e726'), AIMessage(content='', response_metadata={'model': 'llama3.1', 'created_at': '2024-08-12T12:15:04.38621Z', 'message': {'role': 'assistant', 'content': '', 'tool_calls': [{'function': {'name': 'tavily_search_results_json', 'arguments': {'query': 'sf weather'}}}]}, 'done_reason': 'stop', 'done': True, 'total_duration': 31376375300, 'load_duration': 21196892100, 'prompt_eval_count': 249, 'prompt_eval_duration': 2830293000, 'eval_count': 22, 'eval_duration': 6540612000}, id='run-95302bdc-0fe1-4957-8a25-dae431504340-0', tool_calls=[{'name': 'tavily_search_results_json', 'args': {'query': 'sf weather'}, 'id': '6a88d71a-5284-4886-b585-68783f051089', 'type': 'tool_call'}], usage_metadata={'input_tokens': 249, 'output_tokens': 22, 'total_tokens': 271})]}, next=('action',), config={'configurable': {'thread_id': '1', 'thread_ts': '1ef58a48-81b4-679c-8001-8138eea2faa2'}}, metadata={'source': 'loop', 'step': 1, 'writes': {'llm': {'messages': [AIMessage(content='', response_metadata={'model': 'llama3.1', 'created_at': '2024-08-12T12:15:04.38621Z', 'message': {'role': 'assistant', 'content': '', 'tool_calls': [{'function': {'name': 'tavily_search_results_json', 'arguments': {'query': 'sf weather'}}}]}, 'done_reason': 'stop', 'done': True, 'total_duration': 31376375300, 'load_duration': 21196892100, 'prompt_eval_count': 249, 'prompt_eval_duration': 2830293000, 'eval_count': 22, 'eval_duration': 6540612000}, id='run-95302bdc-0fe1-4957-8a25-dae431504340-0', tool_calls=[{'name': 'tavily_search_results_json', 'args': {'query': 'sf weather'}, 'id': '6a88d71a-5284-4886-b585-68783f051089', 'type': 'tool_call'}], usage_metadata={'input_tokens': 249, 'output_tokens': 22, 'total_tokens': 271})]}}}, created_at='2024-08-12T12:15:15.314473+00:00', parent_config={'configurable': {'thread_id': '1', 'thread_ts': '1ef58a46-ede2-6cf7-8000-17bc1fdae294'}})"
      ]
     },
     "execution_count": 8,
     "metadata": {},
     "output_type": "execute_result"
    }
   ],
   "source": [
    "abot.graph.get_state(thread)"
   ]
  },
  {
   "cell_type": "markdown",
   "metadata": {},
   "source": [
    "get the next node"
   ]
  },
  {
   "cell_type": "code",
   "execution_count": 9,
   "metadata": {},
   "outputs": [
    {
     "data": {
      "text/plain": [
       "('action',)"
      ]
     },
     "execution_count": 9,
     "metadata": {},
     "output_type": "execute_result"
    }
   ],
   "source": [
    "abot.graph.get_state(thread).next"
   ]
  },
  {
   "cell_type": "markdown",
   "metadata": {},
   "source": [
    "continue after interrupt"
   ]
  },
  {
   "cell_type": "code",
   "execution_count": 10,
   "metadata": {},
   "outputs": [
    {
     "name": "stdout",
     "output_type": "stream",
     "text": [
      "Calling: {'name': 'tavily_search_results_json', 'args': {'query': 'sf weather'}, 'id': '6a88d71a-5284-4886-b585-68783f051089', 'type': 'tool_call'}\n",
      "Back to the model!\n",
      "{'messages': [ToolMessage(content='[{\\'url\\': \\'https://www.weatherapi.com/\\', \\'content\\': \"{\\'location\\': {\\'name\\': \\'San Francisco\\', \\'region\\': \\'California\\', \\'country\\': \\'United States of America\\', \\'lat\\': 37.78, \\'lon\\': -122.42, \\'tz_id\\': \\'America/Los_Angeles\\', \\'localtime_epoch\\': 1723464778, \\'localtime\\': \\'2024-08-12 05:12\\'}, \\'current\\': {\\'last_updated_epoch\\': 1723464000, \\'last_updated\\': \\'2024-08-12 05:00\\', \\'temp_c\\': 13.2, \\'temp_f\\': 55.8, \\'is_day\\': 0, \\'condition\\': {\\'text\\': \\'Partly Cloudy\\', \\'icon\\': \\'//cdn.weatherapi.com/weather/64x64/night/116.png\\', \\'code\\': 1003}, \\'wind_mph\\': 9.2, \\'wind_kph\\': 14.8, \\'wind_degree\\': 240, \\'wind_dir\\': \\'WSW\\', \\'pressure_mb\\': 1014.0, \\'pressure_in\\': 29.95, \\'precip_mm\\': 0.0, \\'precip_in\\': 0.0, \\'humidity\\': 89, \\'cloud\\': 47, \\'feelslike_c\\': 11.9, \\'feelslike_f\\': 53.4, \\'windchill_c\\': 11.9, \\'windchill_f\\': 53.4, \\'heatindex_c\\': 13.2, \\'heatindex_f\\': 55.8, \\'dewpoint_c\\': 11.5, \\'dewpoint_f\\': 52.6, \\'vis_km\\': 10.0, \\'vis_miles\\': 6.0, \\'uv\\': 1.0, \\'gust_mph\\': 13.1, \\'gust_kph\\': 21.0}}\"}, {\\'url\\': \\'https://www.weathertab.com/en/c/e/12/united-states/california/san-francisco/\\', \\'content\\': \\'Temperature Forecast. Explore comprehensive December 2024 weather forecasts for San Francisco, including daily high and low temperatures, precipitation risks, and monthly temperature trends. Featuring detailed day-by-day forecasts, dynamic graphs of daily rain probabilities, and temperature trends to help you plan ahead.\\'}]', name='tavily_search_results_json', tool_call_id='6a88d71a-5284-4886-b585-68783f051089')]}\n",
      "{'messages': [HumanMessage(content='What is the weather in sf?', id='6da9c792-36d4-417e-b401-7cf57bf1e726'), AIMessage(content='', response_metadata={'model': 'llama3.1', 'created_at': '2024-08-12T12:15:04.38621Z', 'message': {'role': 'assistant', 'content': '', 'tool_calls': [{'function': {'name': 'tavily_search_results_json', 'arguments': {'query': 'sf weather'}}}]}, 'done_reason': 'stop', 'done': True, 'total_duration': 31376375300, 'load_duration': 21196892100, 'prompt_eval_count': 249, 'prompt_eval_duration': 2830293000, 'eval_count': 22, 'eval_duration': 6540612000}, id='run-95302bdc-0fe1-4957-8a25-dae431504340-0', tool_calls=[{'name': 'tavily_search_results_json', 'args': {'query': 'sf weather'}, 'id': '6a88d71a-5284-4886-b585-68783f051089', 'type': 'tool_call'}], usage_metadata={'input_tokens': 249, 'output_tokens': 22, 'total_tokens': 271}), ToolMessage(content='[{\\'url\\': \\'https://www.weatherapi.com/\\', \\'content\\': \"{\\'location\\': {\\'name\\': \\'San Francisco\\', \\'region\\': \\'California\\', \\'country\\': \\'United States of America\\', \\'lat\\': 37.78, \\'lon\\': -122.42, \\'tz_id\\': \\'America/Los_Angeles\\', \\'localtime_epoch\\': 1723464778, \\'localtime\\': \\'2024-08-12 05:12\\'}, \\'current\\': {\\'last_updated_epoch\\': 1723464000, \\'last_updated\\': \\'2024-08-12 05:00\\', \\'temp_c\\': 13.2, \\'temp_f\\': 55.8, \\'is_day\\': 0, \\'condition\\': {\\'text\\': \\'Partly Cloudy\\', \\'icon\\': \\'//cdn.weatherapi.com/weather/64x64/night/116.png\\', \\'code\\': 1003}, \\'wind_mph\\': 9.2, \\'wind_kph\\': 14.8, \\'wind_degree\\': 240, \\'wind_dir\\': \\'WSW\\', \\'pressure_mb\\': 1014.0, \\'pressure_in\\': 29.95, \\'precip_mm\\': 0.0, \\'precip_in\\': 0.0, \\'humidity\\': 89, \\'cloud\\': 47, \\'feelslike_c\\': 11.9, \\'feelslike_f\\': 53.4, \\'windchill_c\\': 11.9, \\'windchill_f\\': 53.4, \\'heatindex_c\\': 13.2, \\'heatindex_f\\': 55.8, \\'dewpoint_c\\': 11.5, \\'dewpoint_f\\': 52.6, \\'vis_km\\': 10.0, \\'vis_miles\\': 6.0, \\'uv\\': 1.0, \\'gust_mph\\': 13.1, \\'gust_kph\\': 21.0}}\"}, {\\'url\\': \\'https://www.weathertab.com/en/c/e/12/united-states/california/san-francisco/\\', \\'content\\': \\'Temperature Forecast. Explore comprehensive December 2024 weather forecasts for San Francisco, including daily high and low temperatures, precipitation risks, and monthly temperature trends. Featuring detailed day-by-day forecasts, dynamic graphs of daily rain probabilities, and temperature trends to help you plan ahead.\\'}]', name='tavily_search_results_json', id='f5bf4960-39d3-4659-a419-c97fa08dbe16', tool_call_id='6a88d71a-5284-4886-b585-68783f051089'), AIMessage(content='The current weather in San Francisco is Partly Cloudy with a temperature of 13.2°C (55.8°F) at 5:00 AM on August 12, 2024. The wind is blowing from the WSW at 9.2 mph, and there is no precipitation expected.', response_metadata={'model': 'llama3.1', 'created_at': '2024-08-12T12:16:38.9683976Z', 'message': {'role': 'assistant', 'content': 'The current weather in San Francisco is Partly Cloudy with a temperature of 13.2°C (55.8°F) at 5:00 AM on August 12, 2024. The wind is blowing from the WSW at 9.2 mph, and there is no precipitation expected.'}, 'done_reason': 'stop', 'done': True, 'total_duration': 26276317500, 'load_duration': 89424300, 'prompt_eval_count': 645, 'prompt_eval_duration': 8769331000, 'eval_count': 64, 'eval_duration': 17151177000}, id='run-30b9526d-124b-47d4-85b3-ec36333b00b8-0', usage_metadata={'input_tokens': 645, 'output_tokens': 64, 'total_tokens': 709})]}\n",
      "{'messages': [AIMessage(content='The current weather in San Francisco is Partly Cloudy with a temperature of 13.2°C (55.8°F) at 5:00 AM on August 12, 2024. The wind is blowing from the WSW at 9.2 mph, and there is no precipitation expected.', response_metadata={'model': 'llama3.1', 'created_at': '2024-08-12T12:16:38.9683976Z', 'message': {'role': 'assistant', 'content': 'The current weather in San Francisco is Partly Cloudy with a temperature of 13.2°C (55.8°F) at 5:00 AM on August 12, 2024. The wind is blowing from the WSW at 9.2 mph, and there is no precipitation expected.'}, 'done_reason': 'stop', 'done': True, 'total_duration': 26276317500, 'load_duration': 89424300, 'prompt_eval_count': 645, 'prompt_eval_duration': 8769331000, 'eval_count': 64, 'eval_duration': 17151177000}, id='run-30b9526d-124b-47d4-85b3-ec36333b00b8-0', usage_metadata={'input_tokens': 645, 'output_tokens': 64, 'total_tokens': 709})]}\n"
     ]
    }
   ],
   "source": [
    "for event in abot.graph.stream(None, thread):\n",
    "    for v in event.values():\n",
    "        print(v)"
   ]
  },
  {
   "cell_type": "markdown",
   "metadata": {},
   "source": [
    "add user input prompt to continue"
   ]
  },
  {
   "cell_type": "code",
   "execution_count": null,
   "metadata": {},
   "outputs": [],
   "source": [
    "messages = [HumanMessage(\"Whats the weather in LA?\")]\n",
    "thread = {\"configurable\": {\"thread_id\": \"2\"}}\n",
    "for event in abot.graph.stream({\"messages\": messages}, thread):\n",
    "    for v in event.values():\n",
    "        print(v)\n",
    "while abot.graph.get_state(thread).next:\n",
    "    print(\"\\n\", abot.graph.get_state(thread),\"\\n\")\n",
    "    _input = input(\"proceed?\")\n",
    "    if _input != \"y\":\n",
    "        print(\"aborting\")\n",
    "        break\n",
    "    for event in abot.graph.stream(None, thread):\n",
    "        for v in event.values():\n",
    "            print(v)"
   ]
  },
  {
   "cell_type": "markdown",
   "metadata": {},
   "source": [
    "# Modify state"
   ]
  },
  {
   "cell_type": "code",
   "execution_count": null,
   "metadata": {},
   "outputs": [],
   "source": [
    "messages = [HumanMessage(\"Whats the weather in LA?\")]\n",
    "thread = {\"configurable\": {\"thread_id\": \"3\"}}\n",
    "for event in abot.graph.stream({\"messages\": messages}, thread):\n",
    "    for v in event.values():\n",
    "        print(v)"
   ]
  },
  {
   "cell_type": "code",
   "execution_count": null,
   "metadata": {},
   "outputs": [],
   "source": [
    "abot.graph.get_state(thread)"
   ]
  },
  {
   "cell_type": "code",
   "execution_count": null,
   "metadata": {},
   "outputs": [],
   "source": [
    "current_values = abot.graph.get_state(thread)"
   ]
  },
  {
   "cell_type": "code",
   "execution_count": null,
   "metadata": {},
   "outputs": [],
   "source": [
    "current_values.values['messages'][-1]"
   ]
  },
  {
   "cell_type": "code",
   "execution_count": null,
   "metadata": {},
   "outputs": [],
   "source": [
    "current_values.values['messages'][-1].tool_calls"
   ]
  },
  {
   "cell_type": "code",
   "execution_count": null,
   "metadata": {},
   "outputs": [],
   "source": [
    "_id = current_values.values['messages'][-1].tool_calls[0]['id']\n",
    "current_values.values['messages'][-1].tool_calls = [\n",
    "    {'name': 'tavily_search_results_json',\n",
    "  'args': {'query': 'current weather in Louisiana'},\n",
    "  'id': _id}\n",
    "]"
   ]
  },
  {
   "cell_type": "code",
   "execution_count": null,
   "metadata": {},
   "outputs": [],
   "source": [
    "abot.graph.update_state(thread, current_values.values)"
   ]
  },
  {
   "cell_type": "code",
   "execution_count": null,
   "metadata": {},
   "outputs": [],
   "source": [
    "abot.graph.get_state(thread)"
   ]
  },
  {
   "cell_type": "code",
   "execution_count": null,
   "metadata": {},
   "outputs": [],
   "source": [
    "for event in abot.graph.stream(None, thread):\n",
    "    for v in event.values():\n",
    "        print(v)"
   ]
  },
  {
   "cell_type": "markdown",
   "metadata": {},
   "source": [
    "# Time Travel"
   ]
  },
  {
   "cell_type": "code",
   "execution_count": 11,
   "metadata": {},
   "outputs": [
    {
     "name": "stdout",
     "output_type": "stream",
     "text": [
      "StateSnapshot(values={'messages': [HumanMessage(content='What is the weather in sf?', id='6da9c792-36d4-417e-b401-7cf57bf1e726'), AIMessage(content='', response_metadata={'model': 'llama3.1', 'created_at': '2024-08-12T12:15:04.38621Z', 'message': {'role': 'assistant', 'content': '', 'tool_calls': [{'function': {'name': 'tavily_search_results_json', 'arguments': {'query': 'sf weather'}}}]}, 'done_reason': 'stop', 'done': True, 'total_duration': 31376375300, 'load_duration': 21196892100, 'prompt_eval_count': 249, 'prompt_eval_duration': 2830293000, 'eval_count': 22, 'eval_duration': 6540612000}, id='run-95302bdc-0fe1-4957-8a25-dae431504340-0', tool_calls=[{'name': 'tavily_search_results_json', 'args': {'query': 'sf weather'}, 'id': '6a88d71a-5284-4886-b585-68783f051089', 'type': 'tool_call'}], usage_metadata={'input_tokens': 249, 'output_tokens': 22, 'total_tokens': 271}), ToolMessage(content='[{\\'url\\': \\'https://www.weatherapi.com/\\', \\'content\\': \"{\\'location\\': {\\'name\\': \\'San Francisco\\', \\'region\\': \\'California\\', \\'country\\': \\'United States of America\\', \\'lat\\': 37.78, \\'lon\\': -122.42, \\'tz_id\\': \\'America/Los_Angeles\\', \\'localtime_epoch\\': 1723464778, \\'localtime\\': \\'2024-08-12 05:12\\'}, \\'current\\': {\\'last_updated_epoch\\': 1723464000, \\'last_updated\\': \\'2024-08-12 05:00\\', \\'temp_c\\': 13.2, \\'temp_f\\': 55.8, \\'is_day\\': 0, \\'condition\\': {\\'text\\': \\'Partly Cloudy\\', \\'icon\\': \\'//cdn.weatherapi.com/weather/64x64/night/116.png\\', \\'code\\': 1003}, \\'wind_mph\\': 9.2, \\'wind_kph\\': 14.8, \\'wind_degree\\': 240, \\'wind_dir\\': \\'WSW\\', \\'pressure_mb\\': 1014.0, \\'pressure_in\\': 29.95, \\'precip_mm\\': 0.0, \\'precip_in\\': 0.0, \\'humidity\\': 89, \\'cloud\\': 47, \\'feelslike_c\\': 11.9, \\'feelslike_f\\': 53.4, \\'windchill_c\\': 11.9, \\'windchill_f\\': 53.4, \\'heatindex_c\\': 13.2, \\'heatindex_f\\': 55.8, \\'dewpoint_c\\': 11.5, \\'dewpoint_f\\': 52.6, \\'vis_km\\': 10.0, \\'vis_miles\\': 6.0, \\'uv\\': 1.0, \\'gust_mph\\': 13.1, \\'gust_kph\\': 21.0}}\"}, {\\'url\\': \\'https://www.weathertab.com/en/c/e/12/united-states/california/san-francisco/\\', \\'content\\': \\'Temperature Forecast. Explore comprehensive December 2024 weather forecasts for San Francisco, including daily high and low temperatures, precipitation risks, and monthly temperature trends. Featuring detailed day-by-day forecasts, dynamic graphs of daily rain probabilities, and temperature trends to help you plan ahead.\\'}]', name='tavily_search_results_json', id='f5bf4960-39d3-4659-a419-c97fa08dbe16', tool_call_id='6a88d71a-5284-4886-b585-68783f051089'), AIMessage(content='The current weather in San Francisco is Partly Cloudy with a temperature of 13.2°C (55.8°F) at 5:00 AM on August 12, 2024. The wind is blowing from the WSW at 9.2 mph, and there is no precipitation expected.', response_metadata={'model': 'llama3.1', 'created_at': '2024-08-12T12:16:38.9683976Z', 'message': {'role': 'assistant', 'content': 'The current weather in San Francisco is Partly Cloudy with a temperature of 13.2°C (55.8°F) at 5:00 AM on August 12, 2024. The wind is blowing from the WSW at 9.2 mph, and there is no precipitation expected.'}, 'done_reason': 'stop', 'done': True, 'total_duration': 26276317500, 'load_duration': 89424300, 'prompt_eval_count': 645, 'prompt_eval_duration': 8769331000, 'eval_count': 64, 'eval_duration': 17151177000}, id='run-30b9526d-124b-47d4-85b3-ec36333b00b8-0', usage_metadata={'input_tokens': 645, 'output_tokens': 64, 'total_tokens': 709})]}, next=(), config={'configurable': {'thread_id': '1', 'thread_ts': '1ef58a4b-9f9e-6cc4-8003-fa230f0521fa'}}, metadata={'source': 'loop', 'step': 3, 'writes': {'llm': {'messages': [AIMessage(content='The current weather in San Francisco is Partly Cloudy with a temperature of 13.2°C (55.8°F) at 5:00 AM on August 12, 2024. The wind is blowing from the WSW at 9.2 mph, and there is no precipitation expected.', response_metadata={'model': 'llama3.1', 'created_at': '2024-08-12T12:16:38.9683976Z', 'message': {'role': 'assistant', 'content': 'The current weather in San Francisco is Partly Cloudy with a temperature of 13.2°C (55.8°F) at 5:00 AM on August 12, 2024. The wind is blowing from the WSW at 9.2 mph, and there is no precipitation expected.'}, 'done_reason': 'stop', 'done': True, 'total_duration': 26276317500, 'load_duration': 89424300, 'prompt_eval_count': 645, 'prompt_eval_duration': 8769331000, 'eval_count': 64, 'eval_duration': 17151177000}, id='run-30b9526d-124b-47d4-85b3-ec36333b00b8-0', usage_metadata={'input_tokens': 645, 'output_tokens': 64, 'total_tokens': 709})]}}}, created_at='2024-08-12T12:16:38.981958+00:00', parent_config={'configurable': {'thread_id': '1', 'thread_ts': '1ef58a4a-a478-6d18-8002-4d1ed4af3af7'}})\n",
      "--\n",
      "StateSnapshot(values={'messages': [HumanMessage(content='What is the weather in sf?', id='6da9c792-36d4-417e-b401-7cf57bf1e726'), AIMessage(content='', response_metadata={'model': 'llama3.1', 'created_at': '2024-08-12T12:15:04.38621Z', 'message': {'role': 'assistant', 'content': '', 'tool_calls': [{'function': {'name': 'tavily_search_results_json', 'arguments': {'query': 'sf weather'}}}]}, 'done_reason': 'stop', 'done': True, 'total_duration': 31376375300, 'load_duration': 21196892100, 'prompt_eval_count': 249, 'prompt_eval_duration': 2830293000, 'eval_count': 22, 'eval_duration': 6540612000}, id='run-95302bdc-0fe1-4957-8a25-dae431504340-0', tool_calls=[{'name': 'tavily_search_results_json', 'args': {'query': 'sf weather'}, 'id': '6a88d71a-5284-4886-b585-68783f051089', 'type': 'tool_call'}], usage_metadata={'input_tokens': 249, 'output_tokens': 22, 'total_tokens': 271}), ToolMessage(content='[{\\'url\\': \\'https://www.weatherapi.com/\\', \\'content\\': \"{\\'location\\': {\\'name\\': \\'San Francisco\\', \\'region\\': \\'California\\', \\'country\\': \\'United States of America\\', \\'lat\\': 37.78, \\'lon\\': -122.42, \\'tz_id\\': \\'America/Los_Angeles\\', \\'localtime_epoch\\': 1723464778, \\'localtime\\': \\'2024-08-12 05:12\\'}, \\'current\\': {\\'last_updated_epoch\\': 1723464000, \\'last_updated\\': \\'2024-08-12 05:00\\', \\'temp_c\\': 13.2, \\'temp_f\\': 55.8, \\'is_day\\': 0, \\'condition\\': {\\'text\\': \\'Partly Cloudy\\', \\'icon\\': \\'//cdn.weatherapi.com/weather/64x64/night/116.png\\', \\'code\\': 1003}, \\'wind_mph\\': 9.2, \\'wind_kph\\': 14.8, \\'wind_degree\\': 240, \\'wind_dir\\': \\'WSW\\', \\'pressure_mb\\': 1014.0, \\'pressure_in\\': 29.95, \\'precip_mm\\': 0.0, \\'precip_in\\': 0.0, \\'humidity\\': 89, \\'cloud\\': 47, \\'feelslike_c\\': 11.9, \\'feelslike_f\\': 53.4, \\'windchill_c\\': 11.9, \\'windchill_f\\': 53.4, \\'heatindex_c\\': 13.2, \\'heatindex_f\\': 55.8, \\'dewpoint_c\\': 11.5, \\'dewpoint_f\\': 52.6, \\'vis_km\\': 10.0, \\'vis_miles\\': 6.0, \\'uv\\': 1.0, \\'gust_mph\\': 13.1, \\'gust_kph\\': 21.0}}\"}, {\\'url\\': \\'https://www.weathertab.com/en/c/e/12/united-states/california/san-francisco/\\', \\'content\\': \\'Temperature Forecast. Explore comprehensive December 2024 weather forecasts for San Francisco, including daily high and low temperatures, precipitation risks, and monthly temperature trends. Featuring detailed day-by-day forecasts, dynamic graphs of daily rain probabilities, and temperature trends to help you plan ahead.\\'}]', name='tavily_search_results_json', id='f5bf4960-39d3-4659-a419-c97fa08dbe16', tool_call_id='6a88d71a-5284-4886-b585-68783f051089')]}, next=('llm',), config={'configurable': {'thread_id': '1', 'thread_ts': '1ef58a4a-a478-6d18-8002-4d1ed4af3af7'}}, metadata={'source': 'loop', 'step': 2, 'writes': {'action': {'messages': [ToolMessage(content='[{\\'url\\': \\'https://www.weatherapi.com/\\', \\'content\\': \"{\\'location\\': {\\'name\\': \\'San Francisco\\', \\'region\\': \\'California\\', \\'country\\': \\'United States of America\\', \\'lat\\': 37.78, \\'lon\\': -122.42, \\'tz_id\\': \\'America/Los_Angeles\\', \\'localtime_epoch\\': 1723464778, \\'localtime\\': \\'2024-08-12 05:12\\'}, \\'current\\': {\\'last_updated_epoch\\': 1723464000, \\'last_updated\\': \\'2024-08-12 05:00\\', \\'temp_c\\': 13.2, \\'temp_f\\': 55.8, \\'is_day\\': 0, \\'condition\\': {\\'text\\': \\'Partly Cloudy\\', \\'icon\\': \\'//cdn.weatherapi.com/weather/64x64/night/116.png\\', \\'code\\': 1003}, \\'wind_mph\\': 9.2, \\'wind_kph\\': 14.8, \\'wind_degree\\': 240, \\'wind_dir\\': \\'WSW\\', \\'pressure_mb\\': 1014.0, \\'pressure_in\\': 29.95, \\'precip_mm\\': 0.0, \\'precip_in\\': 0.0, \\'humidity\\': 89, \\'cloud\\': 47, \\'feelslike_c\\': 11.9, \\'feelslike_f\\': 53.4, \\'windchill_c\\': 11.9, \\'windchill_f\\': 53.4, \\'heatindex_c\\': 13.2, \\'heatindex_f\\': 55.8, \\'dewpoint_c\\': 11.5, \\'dewpoint_f\\': 52.6, \\'vis_km\\': 10.0, \\'vis_miles\\': 6.0, \\'uv\\': 1.0, \\'gust_mph\\': 13.1, \\'gust_kph\\': 21.0}}\"}, {\\'url\\': \\'https://www.weathertab.com/en/c/e/12/united-states/california/san-francisco/\\', \\'content\\': \\'Temperature Forecast. Explore comprehensive December 2024 weather forecasts for San Francisco, including daily high and low temperatures, precipitation risks, and monthly temperature trends. Featuring detailed day-by-day forecasts, dynamic graphs of daily rain probabilities, and temperature trends to help you plan ahead.\\'}]', name='tavily_search_results_json', id='f5bf4960-39d3-4659-a419-c97fa08dbe16', tool_call_id='6a88d71a-5284-4886-b585-68783f051089')]}}}, created_at='2024-08-12T12:16:12.647144+00:00', parent_config={'configurable': {'thread_id': '1', 'thread_ts': '1ef58a48-81b4-679c-8001-8138eea2faa2'}})\n",
      "--\n",
      "StateSnapshot(values={'messages': [HumanMessage(content='What is the weather in sf?', id='6da9c792-36d4-417e-b401-7cf57bf1e726'), AIMessage(content='', response_metadata={'model': 'llama3.1', 'created_at': '2024-08-12T12:15:04.38621Z', 'message': {'role': 'assistant', 'content': '', 'tool_calls': [{'function': {'name': 'tavily_search_results_json', 'arguments': {'query': 'sf weather'}}}]}, 'done_reason': 'stop', 'done': True, 'total_duration': 31376375300, 'load_duration': 21196892100, 'prompt_eval_count': 249, 'prompt_eval_duration': 2830293000, 'eval_count': 22, 'eval_duration': 6540612000}, id='run-95302bdc-0fe1-4957-8a25-dae431504340-0', tool_calls=[{'name': 'tavily_search_results_json', 'args': {'query': 'sf weather'}, 'id': '6a88d71a-5284-4886-b585-68783f051089', 'type': 'tool_call'}], usage_metadata={'input_tokens': 249, 'output_tokens': 22, 'total_tokens': 271})]}, next=('action',), config={'configurable': {'thread_id': '1', 'thread_ts': '1ef58a48-81b4-679c-8001-8138eea2faa2'}}, metadata={'source': 'loop', 'step': 1, 'writes': {'llm': {'messages': [AIMessage(content='', response_metadata={'model': 'llama3.1', 'created_at': '2024-08-12T12:15:04.38621Z', 'message': {'role': 'assistant', 'content': '', 'tool_calls': [{'function': {'name': 'tavily_search_results_json', 'arguments': {'query': 'sf weather'}}}]}, 'done_reason': 'stop', 'done': True, 'total_duration': 31376375300, 'load_duration': 21196892100, 'prompt_eval_count': 249, 'prompt_eval_duration': 2830293000, 'eval_count': 22, 'eval_duration': 6540612000}, id='run-95302bdc-0fe1-4957-8a25-dae431504340-0', tool_calls=[{'name': 'tavily_search_results_json', 'args': {'query': 'sf weather'}, 'id': '6a88d71a-5284-4886-b585-68783f051089', 'type': 'tool_call'}], usage_metadata={'input_tokens': 249, 'output_tokens': 22, 'total_tokens': 271})]}}}, created_at='2024-08-12T12:15:15.314473+00:00', parent_config={'configurable': {'thread_id': '1', 'thread_ts': '1ef58a46-ede2-6cf7-8000-17bc1fdae294'}})\n",
      "--\n",
      "StateSnapshot(values={'messages': [HumanMessage(content='What is the weather in sf?', id='6da9c792-36d4-417e-b401-7cf57bf1e726')]}, next=('llm',), config={'configurable': {'thread_id': '1', 'thread_ts': '1ef58a46-ede2-6cf7-8000-17bc1fdae294'}}, metadata={'source': 'loop', 'step': 0, 'writes': None}, created_at='2024-08-12T12:14:32.970981+00:00', parent_config={'configurable': {'thread_id': '1', 'thread_ts': '1ef58a46-eddd-6ede-bfff-d978604ce37f'}})\n",
      "--\n",
      "StateSnapshot(values={'messages': []}, next=('__start__',), config={'configurable': {'thread_id': '1', 'thread_ts': '1ef58a46-eddd-6ede-bfff-d978604ce37f'}}, metadata={'source': 'input', 'step': -1, 'writes': {'messages': [HumanMessage(content='What is the weather in sf?')]}}, created_at='2024-08-12T12:14:32.968982+00:00', parent_config=None)\n",
      "--\n"
     ]
    }
   ],
   "source": [
    "states = []\n",
    "for state in abot.graph.get_state_history(thread):\n",
    "    print(state)\n",
    "    print('--')\n",
    "    states.append(state)"
   ]
  },
  {
   "cell_type": "code",
   "execution_count": 12,
   "metadata": {},
   "outputs": [],
   "source": [
    "to_replay = states[-3]"
   ]
  },
  {
   "cell_type": "code",
   "execution_count": 13,
   "metadata": {},
   "outputs": [
    {
     "data": {
      "text/plain": [
       "StateSnapshot(values={'messages': [HumanMessage(content='What is the weather in sf?', id='6da9c792-36d4-417e-b401-7cf57bf1e726'), AIMessage(content='', response_metadata={'model': 'llama3.1', 'created_at': '2024-08-12T12:15:04.38621Z', 'message': {'role': 'assistant', 'content': '', 'tool_calls': [{'function': {'name': 'tavily_search_results_json', 'arguments': {'query': 'sf weather'}}}]}, 'done_reason': 'stop', 'done': True, 'total_duration': 31376375300, 'load_duration': 21196892100, 'prompt_eval_count': 249, 'prompt_eval_duration': 2830293000, 'eval_count': 22, 'eval_duration': 6540612000}, id='run-95302bdc-0fe1-4957-8a25-dae431504340-0', tool_calls=[{'name': 'tavily_search_results_json', 'args': {'query': 'sf weather'}, 'id': '6a88d71a-5284-4886-b585-68783f051089', 'type': 'tool_call'}], usage_metadata={'input_tokens': 249, 'output_tokens': 22, 'total_tokens': 271})]}, next=('action',), config={'configurable': {'thread_id': '1', 'thread_ts': '1ef58a48-81b4-679c-8001-8138eea2faa2'}}, metadata={'source': 'loop', 'step': 1, 'writes': {'llm': {'messages': [AIMessage(content='', response_metadata={'model': 'llama3.1', 'created_at': '2024-08-12T12:15:04.38621Z', 'message': {'role': 'assistant', 'content': '', 'tool_calls': [{'function': {'name': 'tavily_search_results_json', 'arguments': {'query': 'sf weather'}}}]}, 'done_reason': 'stop', 'done': True, 'total_duration': 31376375300, 'load_duration': 21196892100, 'prompt_eval_count': 249, 'prompt_eval_duration': 2830293000, 'eval_count': 22, 'eval_duration': 6540612000}, id='run-95302bdc-0fe1-4957-8a25-dae431504340-0', tool_calls=[{'name': 'tavily_search_results_json', 'args': {'query': 'sf weather'}, 'id': '6a88d71a-5284-4886-b585-68783f051089', 'type': 'tool_call'}], usage_metadata={'input_tokens': 249, 'output_tokens': 22, 'total_tokens': 271})]}}}, created_at='2024-08-12T12:15:15.314473+00:00', parent_config={'configurable': {'thread_id': '1', 'thread_ts': '1ef58a46-ede2-6cf7-8000-17bc1fdae294'}})"
      ]
     },
     "execution_count": 13,
     "metadata": {},
     "output_type": "execute_result"
    }
   ],
   "source": [
    "to_replay"
   ]
  },
  {
   "cell_type": "code",
   "execution_count": 14,
   "metadata": {},
   "outputs": [
    {
     "name": "stdout",
     "output_type": "stream",
     "text": [
      "Calling: {'name': 'tavily_search_results_json', 'args': {'query': 'sf weather'}, 'id': '6a88d71a-5284-4886-b585-68783f051089', 'type': 'tool_call'}\n",
      "Back to the model!\n",
      "{'messages': [ToolMessage(content='[{\\'url\\': \\'https://www.weatherapi.com/\\', \\'content\\': \"{\\'location\\': {\\'name\\': \\'San Francisco\\', \\'region\\': \\'California\\', \\'country\\': \\'United States of America\\', \\'lat\\': 37.78, \\'lon\\': -122.42, \\'tz_id\\': \\'America/Los_Angeles\\', \\'localtime_epoch\\': 1723465031, \\'localtime\\': \\'2024-08-12 05:17\\'}, \\'current\\': {\\'last_updated_epoch\\': 1723464900, \\'last_updated\\': \\'2024-08-12 05:15\\', \\'temp_c\\': 13.2, \\'temp_f\\': 55.8, \\'is_day\\': 0, \\'condition\\': {\\'text\\': \\'Partly Cloudy\\', \\'icon\\': \\'//cdn.weatherapi.com/weather/64x64/night/116.png\\', \\'code\\': 1003}, \\'wind_mph\\': 9.2, \\'wind_kph\\': 14.8, \\'wind_degree\\': 240, \\'wind_dir\\': \\'WSW\\', \\'pressure_mb\\': 1014.0, \\'pressure_in\\': 29.95, \\'precip_mm\\': 0.0, \\'precip_in\\': 0.0, \\'humidity\\': 89, \\'cloud\\': 47, \\'feelslike_c\\': 11.9, \\'feelslike_f\\': 53.4, \\'windchill_c\\': 11.9, \\'windchill_f\\': 53.4, \\'heatindex_c\\': 13.2, \\'heatindex_f\\': 55.8, \\'dewpoint_c\\': 11.5, \\'dewpoint_f\\': 52.6, \\'vis_km\\': 10.0, \\'vis_miles\\': 6.0, \\'uv\\': 1.0, \\'gust_mph\\': 13.1, \\'gust_kph\\': 21.0}}\"}, {\\'url\\': \\'https://www.weathertab.com/en/c/e/12/united-states/california/san-francisco/\\', \\'content\\': \\'Temperature Forecast. Explore comprehensive December 2024 weather forecasts for San Francisco, including daily high and low temperatures, precipitation risks, and monthly temperature trends. Featuring detailed day-by-day forecasts, dynamic graphs of daily rain probabilities, and temperature trends to help you plan ahead.\\'}]', name='tavily_search_results_json', tool_call_id='6a88d71a-5284-4886-b585-68783f051089')]}\n",
      "{'messages': [HumanMessage(content='What is the weather in sf?', id='6da9c792-36d4-417e-b401-7cf57bf1e726'), AIMessage(content='', response_metadata={'model': 'llama3.1', 'created_at': '2024-08-12T12:15:04.38621Z', 'message': {'role': 'assistant', 'content': '', 'tool_calls': [{'function': {'name': 'tavily_search_results_json', 'arguments': {'query': 'sf weather'}}}]}, 'done_reason': 'stop', 'done': True, 'total_duration': 31376375300, 'load_duration': 21196892100, 'prompt_eval_count': 249, 'prompt_eval_duration': 2830293000, 'eval_count': 22, 'eval_duration': 6540612000}, id='run-95302bdc-0fe1-4957-8a25-dae431504340-0', tool_calls=[{'name': 'tavily_search_results_json', 'args': {'query': 'sf weather'}, 'id': '6a88d71a-5284-4886-b585-68783f051089', 'type': 'tool_call'}], usage_metadata={'input_tokens': 249, 'output_tokens': 22, 'total_tokens': 271}), ToolMessage(content='[{\\'url\\': \\'https://www.weatherapi.com/\\', \\'content\\': \"{\\'location\\': {\\'name\\': \\'San Francisco\\', \\'region\\': \\'California\\', \\'country\\': \\'United States of America\\', \\'lat\\': 37.78, \\'lon\\': -122.42, \\'tz_id\\': \\'America/Los_Angeles\\', \\'localtime_epoch\\': 1723465031, \\'localtime\\': \\'2024-08-12 05:17\\'}, \\'current\\': {\\'last_updated_epoch\\': 1723464900, \\'last_updated\\': \\'2024-08-12 05:15\\', \\'temp_c\\': 13.2, \\'temp_f\\': 55.8, \\'is_day\\': 0, \\'condition\\': {\\'text\\': \\'Partly Cloudy\\', \\'icon\\': \\'//cdn.weatherapi.com/weather/64x64/night/116.png\\', \\'code\\': 1003}, \\'wind_mph\\': 9.2, \\'wind_kph\\': 14.8, \\'wind_degree\\': 240, \\'wind_dir\\': \\'WSW\\', \\'pressure_mb\\': 1014.0, \\'pressure_in\\': 29.95, \\'precip_mm\\': 0.0, \\'precip_in\\': 0.0, \\'humidity\\': 89, \\'cloud\\': 47, \\'feelslike_c\\': 11.9, \\'feelslike_f\\': 53.4, \\'windchill_c\\': 11.9, \\'windchill_f\\': 53.4, \\'heatindex_c\\': 13.2, \\'heatindex_f\\': 55.8, \\'dewpoint_c\\': 11.5, \\'dewpoint_f\\': 52.6, \\'vis_km\\': 10.0, \\'vis_miles\\': 6.0, \\'uv\\': 1.0, \\'gust_mph\\': 13.1, \\'gust_kph\\': 21.0}}\"}, {\\'url\\': \\'https://www.weathertab.com/en/c/e/12/united-states/california/san-francisco/\\', \\'content\\': \\'Temperature Forecast. Explore comprehensive December 2024 weather forecasts for San Francisco, including daily high and low temperatures, precipitation risks, and monthly temperature trends. Featuring detailed day-by-day forecasts, dynamic graphs of daily rain probabilities, and temperature trends to help you plan ahead.\\'}]', name='tavily_search_results_json', id='43503c63-4bb2-4319-bd72-cd1d5a6a2cf5', tool_call_id='6a88d71a-5284-4886-b585-68783f051089'), AIMessage(content='The current weather in San Francisco is partly cloudy with a temperature of 13.2°C (55.8°F) and humidity of 89%. The wind speed is 14.8 km/h (9.2 mph) from the WSW direction, with a pressure of 1014 mb and no precipitation.', response_metadata={'model': 'llama3.1', 'created_at': '2024-08-12T12:19:07.9716757Z', 'message': {'role': 'assistant', 'content': 'The current weather in San Francisco is partly cloudy with a temperature of 13.2°C (55.8°F) and humidity of 89%. The wind speed is 14.8 km/h (9.2 mph) from the WSW direction, with a pressure of 1014 mb and no precipitation.'}, 'done_reason': 'stop', 'done': True, 'total_duration': 22414732800, 'load_duration': 91001300, 'prompt_eval_count': 645, 'prompt_eval_duration': 5253994000, 'eval_count': 65, 'eval_duration': 17032965000}, id='run-582baefa-82fe-4aaa-943e-72db67bc772c-0', usage_metadata={'input_tokens': 645, 'output_tokens': 65, 'total_tokens': 710})]}\n",
      "{'messages': [AIMessage(content='The current weather in San Francisco is partly cloudy with a temperature of 13.2°C (55.8°F) and humidity of 89%. The wind speed is 14.8 km/h (9.2 mph) from the WSW direction, with a pressure of 1014 mb and no precipitation.', response_metadata={'model': 'llama3.1', 'created_at': '2024-08-12T12:19:07.9716757Z', 'message': {'role': 'assistant', 'content': 'The current weather in San Francisco is partly cloudy with a temperature of 13.2°C (55.8°F) and humidity of 89%. The wind speed is 14.8 km/h (9.2 mph) from the WSW direction, with a pressure of 1014 mb and no precipitation.'}, 'done_reason': 'stop', 'done': True, 'total_duration': 22414732800, 'load_duration': 91001300, 'prompt_eval_count': 645, 'prompt_eval_duration': 5253994000, 'eval_count': 65, 'eval_duration': 17032965000}, id='run-582baefa-82fe-4aaa-943e-72db67bc772c-0', usage_metadata={'input_tokens': 645, 'output_tokens': 65, 'total_tokens': 710})]}\n"
     ]
    }
   ],
   "source": [
    "for event in abot.graph.stream(None, to_replay.config):\n",
    "    for k, v in event.items():\n",
    "        print(v)"
   ]
  },
  {
   "cell_type": "markdown",
   "metadata": {},
   "source": [
    "# Go back in time and edit"
   ]
  },
  {
   "cell_type": "code",
   "execution_count": null,
   "metadata": {},
   "outputs": [],
   "source": [
    "_id = to_replay.values['messages'][-1].tool_calls[0]['id']\n",
    "to_replay.values['messages'][-1].tool_calls = [{'name': 'tavily_search_results_json',\n",
    "  'args': {'query': 'current weather in LA, accuweather'},\n",
    "  'id': _id}]"
   ]
  },
  {
   "cell_type": "code",
   "execution_count": 15,
   "metadata": {},
   "outputs": [
    {
     "name": "stdout",
     "output_type": "stream",
     "text": [
      "{'messages': [HumanMessage(content='What is the weather in sf?', id='6da9c792-36d4-417e-b401-7cf57bf1e726'), AIMessage(content='', response_metadata={'model': 'llama3.1', 'created_at': '2024-08-12T12:15:04.38621Z', 'message': {'role': 'assistant', 'content': '', 'tool_calls': [{'function': {'name': 'tavily_search_results_json', 'arguments': {'query': 'sf weather'}}}]}, 'done_reason': 'stop', 'done': True, 'total_duration': 31376375300, 'load_duration': 21196892100, 'prompt_eval_count': 249, 'prompt_eval_duration': 2830293000, 'eval_count': 22, 'eval_duration': 6540612000}, id='run-95302bdc-0fe1-4957-8a25-dae431504340-0', tool_calls=[{'name': 'tavily_search_results_json', 'args': {'query': 'sf weather'}, 'id': '6a88d71a-5284-4886-b585-68783f051089', 'type': 'tool_call'}], usage_metadata={'input_tokens': 249, 'output_tokens': 22, 'total_tokens': 271})]}\n"
     ]
    }
   ],
   "source": [
    "branch_state = abot.graph.update_state(to_replay.config, to_replay.values)"
   ]
  },
  {
   "cell_type": "code",
   "execution_count": 16,
   "metadata": {},
   "outputs": [
    {
     "name": "stdout",
     "output_type": "stream",
     "text": [
      "Calling: {'name': 'tavily_search_results_json', 'args': {'query': 'sf weather'}, 'id': '6a88d71a-5284-4886-b585-68783f051089', 'type': 'tool_call'}\n",
      "Back to the model!\n",
      "{'messages': [ToolMessage(content='[{\\'url\\': \\'https://www.weatherapi.com/\\', \\'content\\': \"{\\'location\\': {\\'name\\': \\'San Francisco\\', \\'region\\': \\'California\\', \\'country\\': \\'United States of America\\', \\'lat\\': 37.78, \\'lon\\': -122.42, \\'tz_id\\': \\'America/Los_Angeles\\', \\'localtime_epoch\\': 1723465101, \\'localtime\\': \\'2024-08-12 05:18\\'}, \\'current\\': {\\'last_updated_epoch\\': 1723464900, \\'last_updated\\': \\'2024-08-12 05:15\\', \\'temp_c\\': 13.2, \\'temp_f\\': 55.8, \\'is_day\\': 0, \\'condition\\': {\\'text\\': \\'Partly Cloudy\\', \\'icon\\': \\'//cdn.weatherapi.com/weather/64x64/night/116.png\\', \\'code\\': 1003}, \\'wind_mph\\': 9.2, \\'wind_kph\\': 14.8, \\'wind_degree\\': 240, \\'wind_dir\\': \\'WSW\\', \\'pressure_mb\\': 1014.0, \\'pressure_in\\': 29.95, \\'precip_mm\\': 0.0, \\'precip_in\\': 0.0, \\'humidity\\': 89, \\'cloud\\': 47, \\'feelslike_c\\': 11.9, \\'feelslike_f\\': 53.4, \\'windchill_c\\': 11.9, \\'windchill_f\\': 53.4, \\'heatindex_c\\': 13.2, \\'heatindex_f\\': 55.8, \\'dewpoint_c\\': 11.5, \\'dewpoint_f\\': 52.6, \\'vis_km\\': 10.0, \\'vis_miles\\': 6.0, \\'uv\\': 1.0, \\'gust_mph\\': 13.1, \\'gust_kph\\': 21.0}}\"}, {\\'url\\': \\'https://world-weather.info/forecast/usa/san_francisco/december-2024/\\', \\'content\\': \\'Extended weather forecast in San Francisco. Hourly Week 10 days 14 days 30 days Year. Detailed ⚡ San Francisco Weather Forecast for December 2024 - day/night 🌡️ temperatures, precipitations - World-Weather.info.\\'}]', name='tavily_search_results_json', tool_call_id='6a88d71a-5284-4886-b585-68783f051089')]}\n",
      "{'messages': [HumanMessage(content='What is the weather in sf?', id='6da9c792-36d4-417e-b401-7cf57bf1e726'), AIMessage(content='', response_metadata={'model': 'llama3.1', 'created_at': '2024-08-12T12:15:04.38621Z', 'message': {'role': 'assistant', 'content': '', 'tool_calls': [{'function': {'name': 'tavily_search_results_json', 'arguments': {'query': 'sf weather'}}}]}, 'done_reason': 'stop', 'done': True, 'total_duration': 31376375300, 'load_duration': 21196892100, 'prompt_eval_count': 249, 'prompt_eval_duration': 2830293000, 'eval_count': 22, 'eval_duration': 6540612000}, id='run-95302bdc-0fe1-4957-8a25-dae431504340-0', tool_calls=[{'name': 'tavily_search_results_json', 'args': {'query': 'sf weather'}, 'id': '6a88d71a-5284-4886-b585-68783f051089', 'type': 'tool_call'}], usage_metadata={'input_tokens': 249, 'output_tokens': 22, 'total_tokens': 271}), ToolMessage(content='[{\\'url\\': \\'https://www.weatherapi.com/\\', \\'content\\': \"{\\'location\\': {\\'name\\': \\'San Francisco\\', \\'region\\': \\'California\\', \\'country\\': \\'United States of America\\', \\'lat\\': 37.78, \\'lon\\': -122.42, \\'tz_id\\': \\'America/Los_Angeles\\', \\'localtime_epoch\\': 1723465101, \\'localtime\\': \\'2024-08-12 05:18\\'}, \\'current\\': {\\'last_updated_epoch\\': 1723464900, \\'last_updated\\': \\'2024-08-12 05:15\\', \\'temp_c\\': 13.2, \\'temp_f\\': 55.8, \\'is_day\\': 0, \\'condition\\': {\\'text\\': \\'Partly Cloudy\\', \\'icon\\': \\'//cdn.weatherapi.com/weather/64x64/night/116.png\\', \\'code\\': 1003}, \\'wind_mph\\': 9.2, \\'wind_kph\\': 14.8, \\'wind_degree\\': 240, \\'wind_dir\\': \\'WSW\\', \\'pressure_mb\\': 1014.0, \\'pressure_in\\': 29.95, \\'precip_mm\\': 0.0, \\'precip_in\\': 0.0, \\'humidity\\': 89, \\'cloud\\': 47, \\'feelslike_c\\': 11.9, \\'feelslike_f\\': 53.4, \\'windchill_c\\': 11.9, \\'windchill_f\\': 53.4, \\'heatindex_c\\': 13.2, \\'heatindex_f\\': 55.8, \\'dewpoint_c\\': 11.5, \\'dewpoint_f\\': 52.6, \\'vis_km\\': 10.0, \\'vis_miles\\': 6.0, \\'uv\\': 1.0, \\'gust_mph\\': 13.1, \\'gust_kph\\': 21.0}}\"}, {\\'url\\': \\'https://world-weather.info/forecast/usa/san_francisco/december-2024/\\', \\'content\\': \\'Extended weather forecast in San Francisco. Hourly Week 10 days 14 days 30 days Year. Detailed ⚡ San Francisco Weather Forecast for December 2024 - day/night 🌡️ temperatures, precipitations - World-Weather.info.\\'}]', name='tavily_search_results_json', id='f401d01f-b92f-4330-a060-d813974742e0', tool_call_id='6a88d71a-5284-4886-b585-68783f051089'), AIMessage(content='The current weather in San Francisco is Partly Cloudy with a temperature of 13.2°C (55.8°F) and a wind speed of 9.2 mph (14.8 kph) from the WSW direction. The humidity is at 89% and there is no precipitation.', response_metadata={'model': 'llama3.1', 'created_at': '2024-08-12T12:20:17.310343Z', 'message': {'role': 'assistant', 'content': 'The current weather in San Francisco is Partly Cloudy with a temperature of 13.2°C (55.8°F) and a wind speed of 9.2 mph (14.8 kph) from the WSW direction. The humidity is at 89% and there is no precipitation.'}, 'done_reason': 'stop', 'done': True, 'total_duration': 22477486200, 'load_duration': 25900200, 'prompt_eval_count': 642, 'prompt_eval_duration': 5249305000, 'eval_count': 63, 'eval_duration': 17105707000}, id='run-906c586e-b93e-4643-8117-e48be1846280-0', usage_metadata={'input_tokens': 642, 'output_tokens': 63, 'total_tokens': 705})]}\n",
      "{'messages': [AIMessage(content='The current weather in San Francisco is Partly Cloudy with a temperature of 13.2°C (55.8°F) and a wind speed of 9.2 mph (14.8 kph) from the WSW direction. The humidity is at 89% and there is no precipitation.', response_metadata={'model': 'llama3.1', 'created_at': '2024-08-12T12:20:17.310343Z', 'message': {'role': 'assistant', 'content': 'The current weather in San Francisco is Partly Cloudy with a temperature of 13.2°C (55.8°F) and a wind speed of 9.2 mph (14.8 kph) from the WSW direction. The humidity is at 89% and there is no precipitation.'}, 'done_reason': 'stop', 'done': True, 'total_duration': 22477486200, 'load_duration': 25900200, 'prompt_eval_count': 642, 'prompt_eval_duration': 5249305000, 'eval_count': 63, 'eval_duration': 17105707000}, id='run-906c586e-b93e-4643-8117-e48be1846280-0', usage_metadata={'input_tokens': 642, 'output_tokens': 63, 'total_tokens': 705})]}\n"
     ]
    }
   ],
   "source": [
    "for event in abot.graph.stream(None, branch_state):\n",
    "    for k, v in event.items():\n",
    "        if k != \"__end__\":\n",
    "            print(v)"
   ]
  },
  {
   "cell_type": "markdown",
   "metadata": {},
   "source": [
    "# Add message to a state at a given time"
   ]
  },
  {
   "cell_type": "code",
   "execution_count": 17,
   "metadata": {},
   "outputs": [
    {
     "data": {
      "text/plain": [
       "StateSnapshot(values={'messages': [HumanMessage(content='What is the weather in sf?', id='6da9c792-36d4-417e-b401-7cf57bf1e726'), AIMessage(content='', response_metadata={'model': 'llama3.1', 'created_at': '2024-08-12T12:15:04.38621Z', 'message': {'role': 'assistant', 'content': '', 'tool_calls': [{'function': {'name': 'tavily_search_results_json', 'arguments': {'query': 'sf weather'}}}]}, 'done_reason': 'stop', 'done': True, 'total_duration': 31376375300, 'load_duration': 21196892100, 'prompt_eval_count': 249, 'prompt_eval_duration': 2830293000, 'eval_count': 22, 'eval_duration': 6540612000}, id='run-95302bdc-0fe1-4957-8a25-dae431504340-0', tool_calls=[{'name': 'tavily_search_results_json', 'args': {'query': 'sf weather'}, 'id': '6a88d71a-5284-4886-b585-68783f051089', 'type': 'tool_call'}], usage_metadata={'input_tokens': 249, 'output_tokens': 22, 'total_tokens': 271})]}, next=('action',), config={'configurable': {'thread_id': '1', 'thread_ts': '1ef58a48-81b4-679c-8001-8138eea2faa2'}}, metadata={'source': 'loop', 'step': 1, 'writes': {'llm': {'messages': [AIMessage(content='', response_metadata={'model': 'llama3.1', 'created_at': '2024-08-12T12:15:04.38621Z', 'message': {'role': 'assistant', 'content': '', 'tool_calls': [{'function': {'name': 'tavily_search_results_json', 'arguments': {'query': 'sf weather'}}}]}, 'done_reason': 'stop', 'done': True, 'total_duration': 31376375300, 'load_duration': 21196892100, 'prompt_eval_count': 249, 'prompt_eval_duration': 2830293000, 'eval_count': 22, 'eval_duration': 6540612000}, id='run-95302bdc-0fe1-4957-8a25-dae431504340-0', tool_calls=[{'name': 'tavily_search_results_json', 'args': {'query': 'sf weather'}, 'id': '6a88d71a-5284-4886-b585-68783f051089', 'type': 'tool_call'}], usage_metadata={'input_tokens': 249, 'output_tokens': 22, 'total_tokens': 271})]}}}, created_at='2024-08-12T12:15:15.314473+00:00', parent_config={'configurable': {'thread_id': '1', 'thread_ts': '1ef58a46-ede2-6cf7-8000-17bc1fdae294'}})"
      ]
     },
     "execution_count": 17,
     "metadata": {},
     "output_type": "execute_result"
    }
   ],
   "source": [
    "to_replay"
   ]
  },
  {
   "cell_type": "code",
   "execution_count": 18,
   "metadata": {},
   "outputs": [],
   "source": [
    "_id = to_replay.values['messages'][-1].tool_calls[0]['id']"
   ]
  },
  {
   "cell_type": "code",
   "execution_count": 19,
   "metadata": {},
   "outputs": [],
   "source": [
    "state_update = {\"messages\": [ToolMessage(\n",
    "    tool_call_id=_id,\n",
    "    name=\"tavily_search_results_json\",\n",
    "    content=\"54 degree celcius\",\n",
    ")]}"
   ]
  },
  {
   "cell_type": "code",
   "execution_count": 20,
   "metadata": {},
   "outputs": [],
   "source": [
    "branch_and_add = abot.graph.update_state(\n",
    "    to_replay.config, \n",
    "    state_update, \n",
    "    as_node=\"action\")"
   ]
  },
  {
   "cell_type": "code",
   "execution_count": 21,
   "metadata": {},
   "outputs": [
    {
     "name": "stdout",
     "output_type": "stream",
     "text": [
      "{'messages': [HumanMessage(content='What is the weather in sf?', id='6da9c792-36d4-417e-b401-7cf57bf1e726'), AIMessage(content='', response_metadata={'model': 'llama3.1', 'created_at': '2024-08-12T12:15:04.38621Z', 'message': {'role': 'assistant', 'content': '', 'tool_calls': [{'function': {'name': 'tavily_search_results_json', 'arguments': {'query': 'sf weather'}}}]}, 'done_reason': 'stop', 'done': True, 'total_duration': 31376375300, 'load_duration': 21196892100, 'prompt_eval_count': 249, 'prompt_eval_duration': 2830293000, 'eval_count': 22, 'eval_duration': 6540612000}, id='run-95302bdc-0fe1-4957-8a25-dae431504340-0', tool_calls=[{'name': 'tavily_search_results_json', 'args': {'query': 'sf weather'}, 'id': '6a88d71a-5284-4886-b585-68783f051089', 'type': 'tool_call'}], usage_metadata={'input_tokens': 249, 'output_tokens': 22, 'total_tokens': 271}), ToolMessage(content='54 degree celcius', name='tavily_search_results_json', id='5c962916-50d7-406d-9bec-9990f5997ba5', tool_call_id='6a88d71a-5284-4886-b585-68783f051089'), AIMessage(content='', response_metadata={'model': 'llama3.1', 'created_at': '2024-08-12T13:11:45.9449211Z', 'message': {'role': 'assistant', 'content': '', 'tool_calls': [{'function': {'name': 'tavily_search_results_json', 'arguments': {'query': 'current weather in San Francisco'}}}]}, 'done_reason': 'stop', 'done': True, 'total_duration': 55750646900, 'load_duration': 23288745200, 'prompt_eval_count': 153, 'prompt_eval_duration': 1940841000, 'eval_count': 88, 'eval_duration': 30380928000}, id='run-e69960c1-2c50-4e1c-b08f-e51afa9d4d00-0', tool_calls=[{'name': 'tavily_search_results_json', 'args': {'query': 'current weather in San Francisco'}, 'id': '169942e7-15d0-4433-a273-08aad1547b45', 'type': 'tool_call'}], usage_metadata={'input_tokens': 153, 'output_tokens': 88, 'total_tokens': 241})]}\n",
      "{'messages': [AIMessage(content='', response_metadata={'model': 'llama3.1', 'created_at': '2024-08-12T13:11:45.9449211Z', 'message': {'role': 'assistant', 'content': '', 'tool_calls': [{'function': {'name': 'tavily_search_results_json', 'arguments': {'query': 'current weather in San Francisco'}}}]}, 'done_reason': 'stop', 'done': True, 'total_duration': 55750646900, 'load_duration': 23288745200, 'prompt_eval_count': 153, 'prompt_eval_duration': 1940841000, 'eval_count': 88, 'eval_duration': 30380928000}, id='run-e69960c1-2c50-4e1c-b08f-e51afa9d4d00-0', tool_calls=[{'name': 'tavily_search_results_json', 'args': {'query': 'current weather in San Francisco'}, 'id': '169942e7-15d0-4433-a273-08aad1547b45', 'type': 'tool_call'}], usage_metadata={'input_tokens': 153, 'output_tokens': 88, 'total_tokens': 241})]}\n"
     ]
    }
   ],
   "source": [
    "for event in abot.graph.stream(None, branch_and_add):\n",
    "    for k, v in event.items():\n",
    "        print(v)"
   ]
  },
  {
   "cell_type": "code",
   "execution_count": null,
   "metadata": {},
   "outputs": [],
   "source": []
  }
 ],
 "metadata": {
  "kernelspec": {
   "display_name": "lang",
   "language": "python",
   "name": "python3"
  },
  "language_info": {
   "codemirror_mode": {
    "name": "ipython",
    "version": 3
   },
   "file_extension": ".py",
   "mimetype": "text/x-python",
   "name": "python",
   "nbconvert_exporter": "python",
   "pygments_lexer": "ipython3",
   "version": "3.12.4"
  }
 },
 "nbformat": 4,
 "nbformat_minor": 2
}
