{
 "cells": [
  {
   "cell_type": "code",
   "execution_count": 3,
   "metadata": {},
   "outputs": [],
   "source": [
    "from langgraph.graph import StateGraph, END\n",
    "\n",
    "# to construct agent state\n",
    "from typing import TypedDict, Annotated\n",
    "import operator\n",
    "\n",
    "# to construct human, ai and system messages\n",
    "from langchain_core.messages import AnyMessage, SystemMessage, HumanMessage, ToolMessage\n",
    "\n",
    "# llm \n",
    "from langchain_ollama import ChatOllama\n",
    "\n",
    "# tool\n",
    "from langchain_community.tools.tavily_search import TavilySearchResults"
   ]
  },
  {
   "cell_type": "code",
   "execution_count": 4,
   "metadata": {},
   "outputs": [],
   "source": [
    "# old\n",
    "import os\n",
    "TAVILY_API_KEY = \"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\"\n",
    "os.environ[\"TAVILY_API_KEY\"] = TAVILY_API_KEY"
   ]
  },
  {
   "cell_type": "code",
   "execution_count": 5,
   "metadata": {},
   "outputs": [],
   "source": [
    "# old \n",
    "class AgentState(TypedDict):\n",
    "    messages: Annotated[list[AnyMessage], operator.add]"
   ]
  },
  {
   "cell_type": "code",
   "execution_count": 6,
   "metadata": {},
   "outputs": [],
   "source": [
    "# change\n",
    "from langgraph.checkpoint.sqlite import SqliteSaver\n",
    "memory = SqliteSaver.from_conn_string(\":memory:\")"
   ]
  },
  {
   "cell_type": "code",
   "execution_count": 7,
   "metadata": {},
   "outputs": [],
   "source": [
    "# old (modified: checkpointer)\n",
    "class Agent:\n",
    "\n",
    "    def __init__(self, model, tools, checkpointer, system=\"\"):\n",
    "        self.system = system\n",
    "        graph = StateGraph(AgentState)\n",
    "        graph.add_node(\"llm\", self.call_openai)\n",
    "        graph.add_node(\"action\", self.take_action)\n",
    "        graph.add_conditional_edges(\n",
    "            \"llm\",\n",
    "            self.exists_action,######### added\n",
    "            {True: \"action\", False: END}\n",
    "        )\n",
    "        graph.add_edge(\"action\", \"llm\")\n",
    "        graph.set_entry_point(\"llm\")\n",
    "        self.graph = graph.compile(checkpointer=checkpointer) ### added checkpointer\n",
    "        self.tools = {t.name: t for t in tools}\n",
    "        self.model = model.bind_tools(tools)\n",
    "\n",
    "    def exists_action(self, state: AgentState):\n",
    "        result = state['messages'][-1]\n",
    "        return len(result.tool_calls) > 0\n",
    "\n",
    "    def call_openai(self, state: AgentState):\n",
    "        messages = state['messages']\n",
    "        if self.system:\n",
    "            messages = [SystemMessage(content=self.system)] + messages\n",
    "        message = self.model.invoke(messages)\n",
    "        return {'messages': [message]}\n",
    "\n",
    "    def take_action(self, state: AgentState):\n",
    "        tool_calls = state['messages'][-1].tool_calls\n",
    "        results = []\n",
    "        for t in tool_calls:\n",
    "            print(f\"Calling: {t}\")\n",
    "            if not t['name'] in self.tools:      \n",
    "                print(\"\\n ....bad tool name....\")\n",
    "                result = \"bad tool name, retry\"\n",
    "            else:\n",
    "                result = self.tools[t['name']].invoke(t['args'])\n",
    "            results.append(ToolMessage(tool_call_id=t['id'], name=t['name'], content=str(result)))\n",
    "        print(\"Back to the model!\")\n",
    "        return {'messages': results}"
   ]
  },
  {
   "cell_type": "code",
   "execution_count": 10,
   "metadata": {},
   "outputs": [],
   "source": [
    "prompt = \"\"\"You are a smart research assistant. Use the search engine to look up information. \\\n",
    "You are allowed to make multiple calls (either together or in sequence). \\\n",
    "Only look up information when you are sure of what you want. \\\n",
    "If you need to look up some information before asking a follow up question, you are allowed to do that!\n",
    "\"\"\"\n",
    "\n",
    "model = ChatOllama(model=\"llama3.1\")\n",
    "\n",
    "tool = TavilySearchResults(max_results=2)\n",
    "\n",
    "abot = Agent(model, [tool], system=prompt, checkpointer=memory)"
   ]
  },
  {
   "cell_type": "markdown",
   "metadata": {},
   "source": [
    "# Streaming Messages"
   ]
  },
  {
   "cell_type": "code",
   "execution_count": 11,
   "metadata": {},
   "outputs": [],
   "source": [
    "messages = [HumanMessage(content=\"What is the weather in sf?\")]\n",
    "thread = {\"configurable\": {\"thread_id\": \"1\"}}"
   ]
  },
  {
   "cell_type": "code",
   "execution_count": 13,
   "metadata": {},
   "outputs": [
    {
     "name": "stdout",
     "output_type": "stream",
     "text": [
      "[AIMessage(content='', response_metadata={'model': 'llama3.1', 'created_at': '2024-08-12T11:41:52.744613Z', 'message': {'role': 'assistant', 'content': '', 'tool_calls': [{'function': {'name': 'tavily_search_results_json', 'arguments': {'query': 'weather in sf'}}}]}, 'done_reason': 'stop', 'done': True, 'total_duration': 57778046500, 'load_duration': 42799964600, 'prompt_eval_count': 256, 'prompt_eval_duration': 2839670000, 'eval_count': 49, 'eval_duration': 11968023000}, id='run-fc1805d4-7167-43ad-9fb9-7e2ace1edbf4-0', tool_calls=[{'name': 'tavily_search_results_json', 'args': {'query': 'weather in sf'}, 'id': '085fbc8f-4d5c-43df-94cf-d5a582c78a41', 'type': 'tool_call'}], usage_metadata={'input_tokens': 256, 'output_tokens': 49, 'total_tokens': 305})]\n",
      "Calling: {'name': 'tavily_search_results_json', 'args': {'query': 'weather in sf'}, 'id': '085fbc8f-4d5c-43df-94cf-d5a582c78a41', 'type': 'tool_call'}\n",
      "Back to the model!\n",
      "[ToolMessage(content='[{\\'url\\': \\'https://www.weatherapi.com/\\', \\'content\\': \"{\\'location\\': {\\'name\\': \\'San Francisco\\', \\'region\\': \\'California\\', \\'country\\': \\'United States of America\\', \\'lat\\': 37.78, \\'lon\\': -122.42, \\'tz_id\\': \\'America/Los_Angeles\\', \\'localtime_epoch\\': 1723462824, \\'localtime\\': \\'2024-08-12 04:40\\'}, \\'current\\': {\\'last_updated_epoch\\': 1723462200, \\'last_updated\\': \\'2024-08-12 04:30\\', \\'temp_c\\': 13.3, \\'temp_f\\': 55.9, \\'is_day\\': 0, \\'condition\\': {\\'text\\': \\'Patchy rain nearby\\', \\'icon\\': \\'//cdn.weatherapi.com/weather/64x64/night/176.png\\', \\'code\\': 1063}, \\'wind_mph\\': 9.8, \\'wind_kph\\': 15.8, \\'wind_degree\\': 242, \\'wind_dir\\': \\'WSW\\', \\'pressure_mb\\': 1014.0, \\'pressure_in\\': 29.95, \\'precip_mm\\': 0.01, \\'precip_in\\': 0.0, \\'humidity\\': 89, \\'cloud\\': 89, \\'feelslike_c\\': 11.9, \\'feelslike_f\\': 53.4, \\'windchill_c\\': 11.9, \\'windchill_f\\': 53.4, \\'heatindex_c\\': 13.3, \\'heatindex_f\\': 55.9, \\'dewpoint_c\\': 11.5, \\'dewpoint_f\\': 52.8, \\'vis_km\\': 10.0, \\'vis_miles\\': 6.0, \\'uv\\': 1.0, \\'gust_mph\\': 13.8, \\'gust_kph\\': 22.3}}\"}, {\\'url\\': \\'https://forecast.weather.gov/MapClick.php?lat=37.781539&lon=-122.416571\\', \\'content\\': \\'Current conditions at SAN FRANCISCO DOWNTOWN (SFOC1) Lat: 37.77056°NLon: 122.42694°WElev: 150.0ft. NA. 54°F. 12°C. Humidity: NA: ... San Francisco CA 37.77°N 122.41°W (Elev. 131 ft) Last Update: 2:14 am PDT Aug 6, 2024. Forecast Valid: 7am PDT Aug 6, 2024-6pm PDT Aug 12, 2024 . Forecast Discussion . Additional Resources. Radar & Satellite ...\\'}]', name='tavily_search_results_json', tool_call_id='085fbc8f-4d5c-43df-94cf-d5a582c78a41')]\n",
      "[AIMessage(content='The current weather in San Francisco is patchy rain nearby with a temperature of 13.3°C (55.9°F) and humidity at 89%. The wind is blowing at 15.8 km/h (9.8 mph) from the west-southwest.', response_metadata={'model': 'llama3.1', 'created_at': '2024-08-12T11:42:27.3676752Z', 'message': {'role': 'assistant', 'content': 'The current weather in San Francisco is patchy rain nearby with a temperature of 13.3°C (55.9°F) and humidity at 89%. The wind is blowing at 15.8 km/h (9.8 mph) from the west-southwest.'}, 'done_reason': 'stop', 'done': True, 'total_duration': 29218744300, 'load_duration': 81941800, 'prompt_eval_count': 735, 'prompt_eval_duration': 7460250000, 'eval_count': 57, 'eval_duration': 21507817000}, id='run-198c7da5-035d-4995-accf-9925ed311588-0', usage_metadata={'input_tokens': 735, 'output_tokens': 57, 'total_tokens': 792})]\n"
     ]
    }
   ],
   "source": [
    "for event in abot.graph.stream({\"messages\": messages}, thread):\n",
    "    for v in event.values():\n",
    "        print(v['messages'])"
   ]
  },
  {
   "cell_type": "code",
   "execution_count": 14,
   "metadata": {},
   "outputs": [
    {
     "name": "stdout",
     "output_type": "stream",
     "text": [
      "{'messages': [AIMessage(content='', response_metadata={'model': 'llama3.1', 'created_at': '2024-08-12T11:48:03.2740895Z', 'message': {'role': 'assistant', 'content': '', 'tool_calls': [{'function': {'name': 'tavily_search_results_json', 'arguments': {'query': 'weather in la'}}}]}, 'done_reason': 'stop', 'done': True, 'total_duration': 35163036300, 'load_duration': 17272490400, 'prompt_eval_count': 936, 'prompt_eval_duration': 10580671000, 'eval_count': 23, 'eval_duration': 7114624000}, id='run-02a48ee9-c74b-43a1-b1cc-4fb33d1e47e5-0', tool_calls=[{'name': 'tavily_search_results_json', 'args': {'query': 'weather in la'}, 'id': '93c2ae78-3d86-47f8-b50b-01018f95c4c7', 'type': 'tool_call'}], usage_metadata={'input_tokens': 936, 'output_tokens': 23, 'total_tokens': 959})]}\n",
      "Calling: {'name': 'tavily_search_results_json', 'args': {'query': 'weather in la'}, 'id': '93c2ae78-3d86-47f8-b50b-01018f95c4c7', 'type': 'tool_call'}\n",
      "Back to the model!\n",
      "{'messages': [ToolMessage(content='[{\\'url\\': \\'https://www.weatherapi.com/\\', \\'content\\': \"{\\'location\\': {\\'name\\': \\'Los Angeles\\', \\'region\\': \\'California\\', \\'country\\': \\'United States of America\\', \\'lat\\': 34.05, \\'lon\\': -118.24, \\'tz_id\\': \\'America/Los_Angeles\\', \\'localtime_epoch\\': 1723463193, \\'localtime\\': \\'2024-08-12 04:46\\'}, \\'current\\': {\\'last_updated_epoch\\': 1723463100, \\'last_updated\\': \\'2024-08-12 04:45\\', \\'temp_c\\': 22.8, \\'temp_f\\': 73.0, \\'is_day\\': 0, \\'condition\\': {\\'text\\': \\'Clear\\', \\'icon\\': \\'//cdn.weatherapi.com/weather/64x64/night/113.png\\', \\'code\\': 1000}, \\'wind_mph\\': 2.9, \\'wind_kph\\': 4.7, \\'wind_degree\\': 192, \\'wind_dir\\': \\'SSW\\', \\'pressure_mb\\': 1013.0, \\'pressure_in\\': 29.9, \\'precip_mm\\': 0.0, \\'precip_in\\': 0.0, \\'humidity\\': 65, \\'cloud\\': 2, \\'feelslike_c\\': 24.9, \\'feelslike_f\\': 76.7, \\'windchill_c\\': 22.8, \\'windchill_f\\': 73.0, \\'heatindex_c\\': 24.9, \\'heatindex_f\\': 76.7, \\'dewpoint_c\\': 15.8, \\'dewpoint_f\\': 60.4, \\'vis_km\\': 10.0, \\'vis_miles\\': 6.0, \\'uv\\': 1.0, \\'gust_mph\\': 3.9, \\'gust_kph\\': 6.3}}\"}, {\\'url\\': \\'https://www.weathertab.com/en/d/e/12/united-states/california/los-angeles/\\', \\'content\\': \\'Our Los Angeles, California Daily Weather Forecast for December 2024, developed from a specialized dynamic long-range model, provides precise daily temperature and rainfall predictions. This model, distinct from standard statistical or climatological approaches, is the result of over 50 years of dedicated private research, offering a clearer ...\\'}]', name='tavily_search_results_json', tool_call_id='93c2ae78-3d86-47f8-b50b-01018f95c4c7')]}\n",
      "{'messages': [AIMessage(content='The current weather in Los Angeles is clear with a temperature of 22.8°C (73°F) and humidity at 65%. The wind is blowing at 4.7 km/h (2.9 mph) from the south-southwest.', response_metadata={'model': 'llama3.1', 'created_at': '2024-08-12T11:48:34.5094267Z', 'message': {'role': 'assistant', 'content': 'The current weather in Los Angeles is clear with a temperature of 22.8°C (73°F) and humidity at 65%. The wind is blowing at 4.7 km/h (2.9 mph) from the south-southwest.'}, 'done_reason': 'stop', 'done': True, 'total_duration': 27102853000, 'load_duration': 79027000, 'prompt_eval_count': 1339, 'prompt_eval_duration': 10781958000, 'eval_count': 52, 'eval_duration': 16158015000}, id='run-5be5b172-8a5f-4fcb-83aa-4fdf55ea7a0f-0', usage_metadata={'input_tokens': 1339, 'output_tokens': 52, 'total_tokens': 1391})]}\n"
     ]
    }
   ],
   "source": [
    "messages = [HumanMessage(content=\"What about in la?\")]\n",
    "thread = {\"configurable\": {\"thread_id\": \"1\"}}\n",
    "for event in abot.graph.stream({\"messages\": messages}, thread):\n",
    "    for v in event.values():\n",
    "        print(v)"
   ]
  },
  {
   "cell_type": "code",
   "execution_count": 15,
   "metadata": {},
   "outputs": [
    {
     "name": "stdout",
     "output_type": "stream",
     "text": [
      "{'messages': [AIMessage(content='', response_metadata={'model': 'llama3.1', 'created_at': '2024-08-12T11:49:10.8453978Z', 'message': {'role': 'assistant', 'content': '', 'tool_calls': [{'function': {'name': 'tavily_search_results_json', 'arguments': {'query': 'which city is warmer la or sf'}}}]}, 'done_reason': 'stop', 'done': True, 'total_duration': 11043675100, 'load_duration': 33254700, 'prompt_eval_count': 1535, 'prompt_eval_duration': 2590220000, 'eval_count': 27, 'eval_duration': 8366231000}, id='run-79617d14-7716-4978-ac53-ca465c1e44cd-0', tool_calls=[{'name': 'tavily_search_results_json', 'args': {'query': 'which city is warmer la or sf'}, 'id': '8c7619c7-ea86-4a5f-aec2-13bd596ba532', 'type': 'tool_call'}], usage_metadata={'input_tokens': 1535, 'output_tokens': 27, 'total_tokens': 1562})]}\n",
      "Calling: {'name': 'tavily_search_results_json', 'args': {'query': 'which city is warmer la or sf'}, 'id': '8c7619c7-ea86-4a5f-aec2-13bd596ba532', 'type': 'tool_call'}\n",
      "Back to the model!\n",
      "{'messages': [ToolMessage(content=\"[{'url': 'https://www.eyeandpen.com/los-angeles-vs-san-francisco/', 'content': 'When it comes to rainfall, San Francisco receives more precipitation compared to Los Angeles. The city by the bay experiences a wetter climate with an average annual rainfall of about 23 inches (58.4 cm). In contrast, Los Angeles has a drier climate with an average annual rainfall of around 14 inches (35.6 cm).'}, {'url': 'https://www.bestplaces.net/climate/?c1=50667000&c2=50644000', 'content': 'Weather refers to the conditions of the atmosphere over a short period of time, while Climate refers to the conditions of the atmosphere over a long period of time.\\\\n inches of snow a year\\\\nSan Francisco, CaliforniaSummer High: the July high is around 67.2 degreesWinter Low: the January low is 45.5Rain: averages 24.6 inches of rain a yearSnow: averages 0 inches of snow a year\\\\nThe annual BestPlaces Comfort Index for Los Angeles is 9.1 (10=best), which means it is one of the most pleasant places in California.\\\\n Start Your Review of San Francisco\\\\nStart Your Review of Los Angeles\\\\nIncludes Cost of Living compares for child care, utilities, transportation, health, taxes, housing for home owners vs renters, weather, insurance premiums and so much more. 2 AM PST\\\\nMostly Clear\\\\n50°F\\\\n2 AM PST\\\\nMostly Clear\\\\n52°F\\\\nMany people confuse Weather and Climate, but they are different.'}]\", name='tavily_search_results_json', tool_call_id='8c7619c7-ea86-4a5f-aec2-13bd596ba532')]}\n",
      "{'messages': [AIMessage(content='Based on the current weather conditions, Los Angeles is warmer than San Francisco. The temperature in LA is 22.8°C (73°F), while in SF it is 13.3°C (55.9°F). Additionally, the climate data suggests that LA has a drier and warmer climate overall compared to SF.', response_metadata={'model': 'llama3.1', 'created_at': '2024-08-12T11:49:42.5973481Z', 'message': {'role': 'assistant', 'content': 'Based on the current weather conditions, Los Angeles is warmer than San Francisco. The temperature in LA is 22.8°C (73°F), while in SF it is 13.3°C (55.9°F). Additionally, the climate data suggests that LA has a drier and warmer climate overall compared to SF.'}, 'done_reason': 'stop', 'done': True, 'total_duration': 28835599200, 'load_duration': 25730200, 'prompt_eval_count': 1771, 'prompt_eval_duration': 5219058000, 'eval_count': 66, 'eval_duration': 23487954000}, id='run-eb3e14fd-cffa-423a-83d0-a8f0eeba747a-0', usage_metadata={'input_tokens': 1771, 'output_tokens': 66, 'total_tokens': 1837})]}\n"
     ]
    }
   ],
   "source": [
    "messages = [HumanMessage(content=\"Which one is warmer?\")]\n",
    "thread = {\"configurable\": {\"thread_id\": \"1\"}}\n",
    "for event in abot.graph.stream({\"messages\": messages}, thread):\n",
    "    for v in event.values():\n",
    "        print(v)"
   ]
  },
  {
   "cell_type": "code",
   "execution_count": null,
   "metadata": {},
   "outputs": [],
   "source": []
  }
 ],
 "metadata": {
  "kernelspec": {
   "display_name": "lang",
   "language": "python",
   "name": "python3"
  },
  "language_info": {
   "codemirror_mode": {
    "name": "ipython",
    "version": 3
   },
   "file_extension": ".py",
   "mimetype": "text/x-python",
   "name": "python",
   "nbconvert_exporter": "python",
   "pygments_lexer": "ipython3",
   "version": "3.10.5"
  }
 },
 "nbformat": 4,
 "nbformat_minor": 2
}
