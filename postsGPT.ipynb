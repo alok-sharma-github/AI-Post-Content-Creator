{
 "cells": [
  {
   "cell_type": "markdown",
   "metadata": {},
   "source": [
    "# Agentic Search tool"
   ]
  },
  {
   "cell_type": "code",
   "execution_count": 1,
   "metadata": {},
   "outputs": [],
   "source": [
    "# old\n",
    "import os\n",
    "TAVILY_API_KEY = \"Your API KEY\"\n",
    "os.environ[\"TAVILY_API_KEY\"] = TAVILY_API_KEY\n",
    "from tavily import TavilyClient\n",
    "\n",
    "# Step 1. Instantiating your TavilyClient\n",
    "tavily = TavilyClient(api_key=TAVILY_API_KEY)\n"
   ]
  },
  {
   "cell_type": "markdown",
   "metadata": {},
   "source": [
    "# Lets try to create a POST writer Agent"
   ]
  },
  {
   "cell_type": "code",
   "execution_count": 2,
   "metadata": {},
   "outputs": [],
   "source": [
    "from langgraph.graph import StateGraph, END\n",
    "from typing import TypedDict, Annotated, List\n",
    "import operator\n",
    "from langgraph.checkpoint.sqlite import SqliteSaver\n",
    "from langchain_core.messages import AnyMessage, SystemMessage, HumanMessage, AIMessage, ChatMessage\n",
    "# from langchain_ollama import ChatOllama\n",
    "import json\n",
    "memory = SqliteSaver.from_conn_string(\":memory:\")"
   ]
  },
  {
   "cell_type": "code",
   "execution_count": 3,
   "metadata": {},
   "outputs": [],
   "source": [
    "from langchain_experimental.llms.ollama_functions import OllamaFunctions\n",
    "model = OllamaFunctions(model=\"llama3.1\", format=\"json\")"
   ]
  },
  {
   "cell_type": "code",
   "execution_count": 4,
   "metadata": {},
   "outputs": [],
   "source": [
    "class AgentState(TypedDict):\n",
    "    task: str\n",
    "    plan: str\n",
    "    draft: str\n",
    "    critique: str\n",
    "    content: List[str]\n",
    "    revision_number: int\n",
    "    max_revisions: int"
   ]
  },
  {
   "cell_type": "code",
   "execution_count": 5,
   "metadata": {},
   "outputs": [],
   "source": [
    "PLAN_PROMPT = \"\"\"\n",
    "Act as an expert Instagram news post planner. \n",
    "Create a comprehensive outline for an Instagram post based on the given topic. \n",
    "Your outline should include: \n",
    "* Core message and key points \n",
    "* Engaging headline and captivating introduction\n",
    "* Strong conclusion that leaves a lasting impression \n",
    "* Visual suggestions (images, videos, graphics) \n",
    "* Relevant hashtags and a compelling caption\n",
    "* Potential call-to-actions to drive engagement\n",
    "* Recommended tone and style for the post \n",
    "\n",
    "Provide clear and concise explanations for each section of the outline. \n",
    "\"\"\"\n",
    "\n",
    "WRITER_PROMPT = \"\"\"\n",
    "Assume the role of a skilled Instagram news post writer. \n",
    "Craft a captivating and informative Instagram post based on the provided topic and outline. \n",
    "Ensure the content aligns with the target audience and platform's style guidelines.\n",
    "\n",
    "Utilize the provided information (if any) to enrich your post. \n",
    "Be prepared to revise the post based on user feedback. \n",
    "\n",
    "Focus on creating engaging content that resonates with the Instagram community. \n",
    "------\n",
    "\n",
    "{content}\n",
    "\"\"\"\n",
    "\n",
    "REFLECTION_PROMPT = \"\"\"\n",
    "Assume the role of an expert Instagram content evaluator.\n",
    "Provide constructive feedback on the provided Instagram post, focusing on:\n",
    "* Engagement potential: How well does the post capture attention and interest?\n",
    "* Clarity and conciseness: Is the message clear and easy to understand?\n",
    "* Visual appeal: How effective are the images or videos?\n",
    "* Tone and style: Does the post align with the target audience and platform?\n",
    "* Overall impact: How well does the post achieve its intended goals? \n",
    "\n",
    "Offer specific suggestions for improvement, including recommendations for length, depth, style, and visual elements. \n",
    "\"\"\"\n",
    "\n",
    "RESEARCH_PLAN_PROMPT = \"\"\"\n",
    "Act as a dedicated research analyst. \n",
    "Develop three concise search queries to gather essential information for an Instagram news post on the given topic. \n",
    "Prioritize queries that yield relevant and up-to-date data. \n",
    "Consider using specific keywords and phrases for accurate results. \n",
    "\"\"\"\n",
    "\n",
    "RESEARCH_CRITIQUE_PROMPT = \"\"\"\n",
    "Act as a dedicated research analyst. \n",
    "Develop three focused search queries to gather data for revising an Instagram post based on the given feedback. \n",
    "Prioritize queries that address the specific areas needing improvement. \n",
    "Ensure the search terms align with the post's original topic and the provided critiques. \n",
    "\"\"\""
   ]
  },
  {
   "cell_type": "code",
   "execution_count": 6,
   "metadata": {},
   "outputs": [],
   "source": [
    "from langchain_core.pydantic_v1 import BaseModel\n",
    "\n",
    "class Queries(BaseModel):\n",
    "    queries: List[str]"
   ]
  },
  {
   "cell_type": "code",
   "execution_count": 7,
   "metadata": {},
   "outputs": [],
   "source": [
    "def plan_node(state: AgentState):\n",
    "    print(\"research_plan_node-state_task\", state['task'])\n",
    "    messages = [\n",
    "        SystemMessage(content=PLAN_PROMPT), \n",
    "        HumanMessage(content=state['task'])\n",
    "    ]\n",
    "    response = model.invoke(messages)\n",
    "    return {\"plan\": response.content}\n",
    "\n",
    "def research_plan_node(state: AgentState):\n",
    "    queries = model.with_structured_output(Queries).invoke([\n",
    "        SystemMessage(content=RESEARCH_PLAN_PROMPT),\n",
    "        HumanMessage(content=state['task'])\n",
    "    ])\n",
    "    print(\"Resrch Plan Node \",queries)\n",
    "    content = state['content'] or []\n",
    "    for q in queries.queries:\n",
    "        response = tavily.search(query=q, max_results=2)\n",
    "        for r in response['results']:\n",
    "            content.append(r['content'])\n",
    "    return {\"content\": content}\n",
    "\n",
    "def generation_node(state: AgentState):\n",
    "    content = \"\\n\\n\".join(state['content'] or [])\n",
    "    user_message = HumanMessage(\n",
    "        content=f\"{state['task']}\\n\\nHere is my plan:\\n\\n{state['plan']}\")\n",
    "    messages = [\n",
    "        SystemMessage(\n",
    "            content=WRITER_PROMPT.format(content=content)\n",
    "        ),\n",
    "        user_message\n",
    "        ]\n",
    "    response = model.invoke(messages)\n",
    "    return {\n",
    "        \"draft\": response.content, \n",
    "        \"revision_number\": state.get(\"revision_number\", 1) + 1\n",
    "    }\n",
    "\n",
    "\n",
    "def reflection_node(state: AgentState):\n",
    "    messages = [\n",
    "        SystemMessage(content=REFLECTION_PROMPT), \n",
    "        HumanMessage(content=state['draft'])\n",
    "    ]\n",
    "    response = model.invoke(messages)\n",
    "    return {\"critique\": response.content}\n",
    "\n",
    "def research_critique_node(state: AgentState):\n",
    "    queries = model.with_structured_output(Queries).invoke([\n",
    "        SystemMessage(content=RESEARCH_CRITIQUE_PROMPT),\n",
    "        HumanMessage(content=state['critique'])\n",
    "    ])\n",
    "    content = state['content'] or []\n",
    "    for q in queries.queries:\n",
    "        response = tavily.search(query=q, max_results=2)\n",
    "        for r in response['results']:\n",
    "            content.append(r['content'])\n",
    "    return {\"content\": content}\n",
    "\n",
    "def should_continue(state):\n",
    "    if state[\"revision_number\"] > state[\"max_revisions\"]:\n",
    "        return END\n",
    "    return \"reflect\""
   ]
  },
  {
   "cell_type": "code",
   "execution_count": 8,
   "metadata": {},
   "outputs": [],
   "source": [
    "builder = StateGraph(AgentState)\n",
    "\n",
    "builder.add_node(\"planner\", plan_node)\n",
    "builder.add_node(\"generate\", generation_node)\n",
    "builder.add_node(\"reflect\", reflection_node)\n",
    "builder.add_node(\"research_plan\", research_plan_node)\n",
    "builder.add_node(\"research_critique\", research_critique_node)\n",
    "\n",
    "builder.set_entry_point(\"planner\")\n",
    "\n",
    "builder.add_conditional_edges(\n",
    "    \"generate\", \n",
    "    should_continue, \n",
    "    {END: END, \"reflect\": \"reflect\"}\n",
    ")\n"
   ]
  },
  {
   "cell_type": "code",
   "execution_count": 9,
   "metadata": {},
   "outputs": [],
   "source": [
    "builder.add_edge(\"planner\", \"research_plan\")\n",
    "builder.add_edge(\"research_plan\", \"generate\")\n",
    "\n",
    "builder.add_edge(\"reflect\", \"research_critique\")\n",
    "builder.add_edge(\"research_critique\", \"generate\")"
   ]
  },
  {
   "cell_type": "code",
   "execution_count": 10,
   "metadata": {},
   "outputs": [],
   "source": [
    "with SqliteSaver.from_conn_string(\":memory:\") as checkpointer:\n",
    "    graph = builder.compile(checkpointer=checkpointer)\n"
   ]
  },
  {
   "cell_type": "code",
   "execution_count": 17,
   "metadata": {},
   "outputs": [
    {
     "name": "stdout",
     "output_type": "stream",
     "text": [
      "research_plan_node-state_task all updates on olympics 2024\n",
      "{'planner': {'plan': \"Here's a comprehensive outline for an Instagram post based on Olympics 2024:\\n\\n**Core Message and Key Points:**\\n- Update on upcoming Olympic Games in Paris, France (2024)\\n- Schedule of key events and competitions\\n- Preview of participating countries and athletes\\n\\n**Engaging Headline and Captivating Introduction:***'Get Ready for the Ultimate Competition!'*\\n*Introduction:* 'The Olympic spirit is back! With just a few months to go, we're counting down the days until the 2024 Olympics in Paris. From record-breaking feats to unforgettable moments of triumph, this year's Games promise to be an unmissable experience.\\n\\n**Strong Conclusion that Leaves a Lasting Impression:**\\n*Conclusion:* 'Don't miss out on the magic! Mark your calendars for July 26th and get ready to cheer on your favorite athletes. Stay tuned for more updates, and let us know who you're rooting for in the comments below!\\n\\n**Visual Suggestions (Images, Videos, Graphics):***\\n- A dramatic image of the Eiffel Tower with a hint of Olympic colors\\n- A video montage showcasing past Olympic moments and record-breaking achievements\\n- An eye-catching graphic highlighting key events, participating countries, or athletes to watch\\n\\n**Relevant Hashtags and Compelling Caption:**\\n*Caption:* '#2024Olympics #Paris2024 #OlympicGames #Sports #Competition #TeamSpirit' *Hashtags:* '#Paralympics2024 #SummerGames #AthletesUnite #SportingGreatness'\\n\\n**Potential Call-to-Actions to Drive Engagement:**\\n*CTA 1:* 'Who's your favorite athlete to watch? Share in the comments below!' *CTA 2:* 'Want more Olympics updates? Follow us for exclusive behind-the-scenes content!'\\n\\n**Recommended Tone and Style for the Post:***\\n- Inspirational\\n- Uplifting\\n- Energetic\\n\\nLet's make this post shine with engaging visuals, an electrifying tone, and a compelling caption that leaves our audience eager for more. Let's do this!\"}}\n",
      "Resrch Plan Node  queries=['Olympics 2024 news and updates', 'Paris Olympics 2024 schedule and events', 'Tokyo Olympics 2024 medal count and results']\n",
      "{'research_plan': {'content': ['Follow the latest news, updates and highlights from the Paris Olympics 2024 on BBC Sport online. Watch, listen and read the best coverage of the Olympic Games.', 'Follow live updates and the latest news on Day 6 of the 2024 Paris Olympics. IE 11 is not supported. ... Team USA has dominated the 2024 Paris Olympics — at least by some metrics.', \"The schedule reflects Paris 2024's ambition to stage a spectacular and popular Games. 32 sports will be on the programme, which will give rise to 19 days of competition from Wednesday 24 July to Sunday 11 August, 329 events, for a total of 762 sessions*. This calendar is the result of a long process of collective work involving, alongside ...\", 'Find out the day-by-day schedule from the Paris Olympics 2024 for each sport and event including athletics, swimming, football, cycling and more.', \"Team USA finished with the most medals at the 2021 Olympics in Tokyo, winning 113 overall and 39 gold. How did they fare in 2024? Here's a look at the updated medal count standings at the 2024 ...\", 'The latest medal count and results for the Paris Olympics. ... Olympics Results. July 27, 2024. Leer en español. Share full article. Medal Count. Total;']}}\n",
      "{'generate': {'draft': \"Get Ready for the Ultimate Competition! The Olympic spirit is back! With just a few months to go, we're counting down the days until the 2024 Olympics in Paris. From record-breaking feats to unforgettable moments of triumph, this year's Games promise to be an unmissable experience. Don't miss out on the magic! Mark your calendars for July 26th and get ready to cheer on your favorite athletes. Stay tuned for more updates, and let us know who you're rooting for in the comments below! #2024Olympics #Paris2024 #OlympicGames #Sports #Competition #TeamSpirit\", 'revision_number': 2}}\n",
      "{'reflect': {'critique': \"Overall, I'd give this post an 8 out of 10. It's engaging and captures the excitement of the Olympics. However, to reach a higher score, consider shortening it to make the message clearer and more concise. The current length might be overwhelming for some readers.\\n\\nTo improve clarity, try breaking up long sentences into shorter ones. This will also help with readability on mobile devices. Additionally, think about adding more visual appeal by including eye-catching graphics or images that represent the Olympic spirit. Perhaps a photo of athletes in action or a collage of past Olympic moments could be used to make the post stand out.\\n\\nIn terms of tone and style, the post aligns well with the target audience and platform. It's energetic, motivational, and encourages engagement through the call-to-action (CTA) at the end. However, to take it to the next level, consider adding a personal touch or a specific theme that resonates with your audience.\\n\\nThe overall impact of this post is high, as it effectively promotes the 2024 Olympics and generates excitement among fans. To maximize its potential, try using relevant hashtags that are popular during this time of year. This will help increase visibility and reach a broader audience.\"}}\n",
      "{'research_critique': {'content': ['Follow the latest news, updates and highlights from the Paris Olympics 2024 on BBC Sport online. Watch, listen and read the best coverage of the Olympic Games.', 'Follow live updates and the latest news on Day 6 of the 2024 Paris Olympics. IE 11 is not supported. ... Team USA has dominated the 2024 Paris Olympics — at least by some metrics.', \"The schedule reflects Paris 2024's ambition to stage a spectacular and popular Games. 32 sports will be on the programme, which will give rise to 19 days of competition from Wednesday 24 July to Sunday 11 August, 329 events, for a total of 762 sessions*. This calendar is the result of a long process of collective work involving, alongside ...\", 'Find out the day-by-day schedule from the Paris Olympics 2024 for each sport and event including athletics, swimming, football, cycling and more.', \"Team USA finished with the most medals at the 2021 Olympics in Tokyo, winning 113 overall and 39 gold. How did they fare in 2024? Here's a look at the updated medal count standings at the 2024 ...\", 'The latest medal count and results for the Paris Olympics. ... Olympics Results. July 27, 2024. Leer en español. Share full article. Medal Count. Total;', \"Instagram is unusual in that outside research recommends a longer post length than the platform. In fact, Sprout Social found that Instagram posts between 138-150 characters received the highest levels of engagement. How To Increase Or Shorten Instagram Posts. To lengthen an Instagram post: Dig deeper into the content you're sharing and give ...\", 'A video post on Instagram is a video that you upload and share on your feed, appearing alongside images in the posts section. Instagram allows video posts to range from 3 seconds to a maximum of 60 minutes in length. If your video post exceeds 60 seconds, a preview of the video will be displayed in the feed. 2.', 'Keep your sentences short and punchy. About 15-20 words max. Break up long sentences into shorter ones. Use fragments for effect. Some short tips: Write the way you talk. Use simple words and phrasing. Avoid five-dollar words when a fifty-cent one will do. Relate. 2. Get to the Point Quickly. When writing for mobile, get to the point—fast.', \"2. Photo by Breakslow on Unsplash. As more web traffic comes from mobile devices, it's helpful to consider how the choices you make when writing, editing and producing your content affect how ...\", 'Images and graphics create a lasting impression, helping your audience retain key points from your content. Visuals evoke emotions. The right visuals can create a connection with your audience, fostering trust and brand loyalty. Visuals improve engagement. Eye-catching graphics can encourage clicks, shares, and overall engagement with your content.', 'Typography plays a crucial role in creating eye-catching graphics that enhance your content. The right choice of fonts, sizes, and styles can significantly impact the readability and visual appeal ...', '15 Effective Strategies for Creating Content That Connects With Your Target Audience\\n•\\n8\\nmin read\\n15 Effective Strategies for Creating Content That Connects With Your Target Audience\\nCreating content that resonates with your target audience is crucial for engagement and success. Choose examples that emphasize obstacles, achievements, or lessons learned your audience can relate to and find inspiring.\\n, Communications Manager, Texas Property Tax Loan Pros\\nUse Nostalgic Pop Culture References\\nIf you are giving references to pop culture, you should not take the pop culture of now, but use the pop culture that your audience was exposed to when they were young. When you are clear with this purpose, find a singular, relatable voice for your expertise that would consistently guide your audience through how-to guides, do’s and don’ts, and other tips, as well as constantly interact with them when you push for your content in other channels, such as social media and e-newsletters.\\n Tiffany Hafler Marketing Coordinator,\\xa0Blockchain Lawyer\\nSubmit Your Answer\\nWould you like to submit an alternate answer to the question, “What is one tip for writing content that resonates with your target audience?”\\nSubmit your answer here.\\n Ian Dukleth Entrepreneur, SEO, and Content Strategy,\\xa0Ian Dukleth\\nEmbrace Empathy and Perspective\\nShowing empathy and putting yourself in their shoes is the best tip for writing content that resonates with your target audience.', '4. Produce Informative and Educational Content\\nAnother content type you can produce is valuable and insightful content about your brand and your product or services. Your compelling content and strategy demonstrate your brand’s relevance and position you as a thought leader in your field and community.\\n Here are some content structures you can follow:\\nThrough educational content, you position your brand as an expert in the field and build trust with your audience. 7 Tips to Create Compelling Content That Resonates with Your Target Audience\\nCapturing your target audience’s attention starts when you create compelling content. 7. Produce Relevant and Timely Content\\nAnother factor that resonates with your target audience is the timeliness and relevance of your compelling content.', 'Incorporating relevant event-specific hashtags - For instance, during the Olympics season, adding #OlympicSwimming could greatly boost engagement. Leveraging universally recognized swimming-related tags - Popular favorites include #JustKeepSwimming and #LoveToSwim which have broad appeal.', 'Harnessing the Power of Hashtags. Hashtags have become a powerful tool in Olympic marketing campaigns. By strategically using hashtags, brands can increase their visibility and reach a wider audience. Engaging with fans through hashtags allows brands to create a sense of community and encourage user-generated content. This not only boosts brand ...']}}\n",
      "{'generate': {'draft': \"Get Ready for the Ultimate Competition! The Olympic spirit is back! With just a few months to go, we're counting down the days until the 2024 Olympics in Paris. From record-breaking feats to unforgettable moments of triumph, this year's Games promise to be an unmissable experience. Don't miss out on the magic! Mark your calendars for July 26th and get ready to cheer on your favorite athletes. Stay tuned for more updates, and let us know who you're rooting for in the comments below! #2024Olympics #Paris2024 #OlympicGames #Sports #Competition #TeamSpirit\", 'revision_number': 3}}\n"
     ]
    }
   ],
   "source": [
    "thread = {\"configurable\": {\"thread_id\": \"1\"}}\n",
    "# builder.graph.get_state(thread)\n",
    "for s in graph.stream({\n",
    "    'task': \"all updates on olympics 2024\",\n",
    "    \"max_revisions\": 2,\n",
    "    \"revision_number\": 1,\n",
    "}, thread):\n",
    "    print(s)\n"
   ]
  },
  {
   "cell_type": "code",
   "execution_count": null,
   "metadata": {},
   "outputs": [],
   "source": [
    "states = graph.get_state(config=thread)"
   ]
  },
  {
   "cell_type": "code",
   "execution_count": 31,
   "metadata": {},
   "outputs": [
    {
     "data": {
      "text/plain": [
       "{'task': 'all updates on olympics 2024',\n",
       " 'plan': \"Here's a comprehensive outline for an Instagram post based on Olympics 2024:\\n\\n**Core Message and Key Points:**\\n- Update on upcoming Olympic Games in Paris, France (2024)\\n- Schedule of key events and competitions\\n- Preview of participating countries and athletes\\n\\n**Engaging Headline and Captivating Introduction:***'Get Ready for the Ultimate Competition!'*\\n*Introduction:* 'The Olympic spirit is back! With just a few months to go, we're counting down the days until the 2024 Olympics in Paris. From record-breaking feats to unforgettable moments of triumph, this year's Games promise to be an unmissable experience.\\n\\n**Strong Conclusion that Leaves a Lasting Impression:**\\n*Conclusion:* 'Don't miss out on the magic! Mark your calendars for July 26th and get ready to cheer on your favorite athletes. Stay tuned for more updates, and let us know who you're rooting for in the comments below!\\n\\n**Visual Suggestions (Images, Videos, Graphics):***\\n- A dramatic image of the Eiffel Tower with a hint of Olympic colors\\n- A video montage showcasing past Olympic moments and record-breaking achievements\\n- An eye-catching graphic highlighting key events, participating countries, or athletes to watch\\n\\n**Relevant Hashtags and Compelling Caption:**\\n*Caption:* '#2024Olympics #Paris2024 #OlympicGames #Sports #Competition #TeamSpirit' *Hashtags:* '#Paralympics2024 #SummerGames #AthletesUnite #SportingGreatness'\\n\\n**Potential Call-to-Actions to Drive Engagement:**\\n*CTA 1:* 'Who's your favorite athlete to watch? Share in the comments below!' *CTA 2:* 'Want more Olympics updates? Follow us for exclusive behind-the-scenes content!'\\n\\n**Recommended Tone and Style for the Post:***\\n- Inspirational\\n- Uplifting\\n- Energetic\\n\\nLet's make this post shine with engaging visuals, an electrifying tone, and a compelling caption that leaves our audience eager for more. Let's do this!\",\n",
       " 'draft': \"Get Ready for the Ultimate Competition! The Olympic spirit is back! With just a few months to go, we're counting down the days until the 2024 Olympics in Paris. From record-breaking feats to unforgettable moments of triumph, this year's Games promise to be an unmissable experience. Don't miss out on the magic! Mark your calendars for July 26th and get ready to cheer on your favorite athletes. Stay tuned for more updates, and let us know who you're rooting for in the comments below! #2024Olympics #Paris2024 #OlympicGames #Sports #Competition #TeamSpirit\",\n",
       " 'critique': \"Overall, I'd give this post an 8 out of 10. It's engaging and captures the excitement of the Olympics. However, to reach a higher score, consider shortening it to make the message clearer and more concise. The current length might be overwhelming for some readers.\\n\\nTo improve clarity, try breaking up long sentences into shorter ones. This will also help with readability on mobile devices. Additionally, think about adding more visual appeal by including eye-catching graphics or images that represent the Olympic spirit. Perhaps a photo of athletes in action or a collage of past Olympic moments could be used to make the post stand out.\\n\\nIn terms of tone and style, the post aligns well with the target audience and platform. It's energetic, motivational, and encourages engagement through the call-to-action (CTA) at the end. However, to take it to the next level, consider adding a personal touch or a specific theme that resonates with your audience.\\n\\nThe overall impact of this post is high, as it effectively promotes the 2024 Olympics and generates excitement among fans. To maximize its potential, try using relevant hashtags that are popular during this time of year. This will help increase visibility and reach a broader audience.\",\n",
       " 'content': ['Follow the latest news, updates and highlights from the Paris Olympics 2024 on BBC Sport online. Watch, listen and read the best coverage of the Olympic Games.',\n",
       "  'Follow live updates and the latest news on Day 6 of the 2024 Paris Olympics. IE 11 is not supported. ... Team USA has dominated the 2024 Paris Olympics — at least by some metrics.',\n",
       "  \"The schedule reflects Paris 2024's ambition to stage a spectacular and popular Games. 32 sports will be on the programme, which will give rise to 19 days of competition from Wednesday 24 July to Sunday 11 August, 329 events, for a total of 762 sessions*. This calendar is the result of a long process of collective work involving, alongside ...\",\n",
       "  'Find out the day-by-day schedule from the Paris Olympics 2024 for each sport and event including athletics, swimming, football, cycling and more.',\n",
       "  \"Team USA finished with the most medals at the 2021 Olympics in Tokyo, winning 113 overall and 39 gold. How did they fare in 2024? Here's a look at the updated medal count standings at the 2024 ...\",\n",
       "  'The latest medal count and results for the Paris Olympics. ... Olympics Results. July 27, 2024. Leer en español. Share full article. Medal Count. Total;',\n",
       "  \"Instagram is unusual in that outside research recommends a longer post length than the platform. In fact, Sprout Social found that Instagram posts between 138-150 characters received the highest levels of engagement. How To Increase Or Shorten Instagram Posts. To lengthen an Instagram post: Dig deeper into the content you're sharing and give ...\",\n",
       "  'A video post on Instagram is a video that you upload and share on your feed, appearing alongside images in the posts section. Instagram allows video posts to range from 3 seconds to a maximum of 60 minutes in length. If your video post exceeds 60 seconds, a preview of the video will be displayed in the feed. 2.',\n",
       "  'Keep your sentences short and punchy. About 15-20 words max. Break up long sentences into shorter ones. Use fragments for effect. Some short tips: Write the way you talk. Use simple words and phrasing. Avoid five-dollar words when a fifty-cent one will do. Relate. 2. Get to the Point Quickly. When writing for mobile, get to the point—fast.',\n",
       "  \"2. Photo by Breakslow on Unsplash. As more web traffic comes from mobile devices, it's helpful to consider how the choices you make when writing, editing and producing your content affect how ...\",\n",
       "  'Images and graphics create a lasting impression, helping your audience retain key points from your content. Visuals evoke emotions. The right visuals can create a connection with your audience, fostering trust and brand loyalty. Visuals improve engagement. Eye-catching graphics can encourage clicks, shares, and overall engagement with your content.',\n",
       "  'Typography plays a crucial role in creating eye-catching graphics that enhance your content. The right choice of fonts, sizes, and styles can significantly impact the readability and visual appeal ...',\n",
       "  '15 Effective Strategies for Creating Content That Connects With Your Target Audience\\n•\\n8\\nmin read\\n15 Effective Strategies for Creating Content That Connects With Your Target Audience\\nCreating content that resonates with your target audience is crucial for engagement and success. Choose examples that emphasize obstacles, achievements, or lessons learned your audience can relate to and find inspiring.\\n, Communications Manager, Texas Property Tax Loan Pros\\nUse Nostalgic Pop Culture References\\nIf you are giving references to pop culture, you should not take the pop culture of now, but use the pop culture that your audience was exposed to when they were young. When you are clear with this purpose, find a singular, relatable voice for your expertise that would consistently guide your audience through how-to guides, do’s and don’ts, and other tips, as well as constantly interact with them when you push for your content in other channels, such as social media and e-newsletters.\\n Tiffany Hafler Marketing Coordinator,\\xa0Blockchain Lawyer\\nSubmit Your Answer\\nWould you like to submit an alternate answer to the question, “What is one tip for writing content that resonates with your target audience?”\\nSubmit your answer here.\\n Ian Dukleth Entrepreneur, SEO, and Content Strategy,\\xa0Ian Dukleth\\nEmbrace Empathy and Perspective\\nShowing empathy and putting yourself in their shoes is the best tip for writing content that resonates with your target audience.',\n",
       "  '4. Produce Informative and Educational Content\\nAnother content type you can produce is valuable and insightful content about your brand and your product or services. Your compelling content and strategy demonstrate your brand’s relevance and position you as a thought leader in your field and community.\\n Here are some content structures you can follow:\\nThrough educational content, you position your brand as an expert in the field and build trust with your audience. 7 Tips to Create Compelling Content That Resonates with Your Target Audience\\nCapturing your target audience’s attention starts when you create compelling content. 7. Produce Relevant and Timely Content\\nAnother factor that resonates with your target audience is the timeliness and relevance of your compelling content.',\n",
       "  'Incorporating relevant event-specific hashtags - For instance, during the Olympics season, adding #OlympicSwimming could greatly boost engagement. Leveraging universally recognized swimming-related tags - Popular favorites include #JustKeepSwimming and #LoveToSwim which have broad appeal.',\n",
       "  'Harnessing the Power of Hashtags. Hashtags have become a powerful tool in Olympic marketing campaigns. By strategically using hashtags, brands can increase their visibility and reach a wider audience. Engaging with fans through hashtags allows brands to create a sense of community and encourage user-generated content. This not only boosts brand ...'],\n",
       " 'revision_number': 3,\n",
       " 'max_revisions': 2}"
      ]
     },
     "execution_count": 31,
     "metadata": {},
     "output_type": "execute_result"
    }
   ],
   "source": [
    "states.values"
   ]
  },
  {
   "cell_type": "code",
   "execution_count": 29,
   "metadata": {},
   "outputs": [
    {
     "name": "stdout",
     "output_type": "stream",
     "text": [
      "Here's a comprehensive outline for an Instagram post based on Olympics 2024:\n",
      "\n",
      "**Core Message and Key Points:**\n",
      "- Update on upcoming Olympic Games in Paris, France (2024)\n",
      "- Schedule of key events and competitions\n",
      "- Preview of participating countries and athletes\n",
      "\n",
      "**Engaging Headline and Captivating Introduction:***'Get Ready for the Ultimate Competition!'*\n",
      "*Introduction:* 'The Olympic spirit is back! With just a few months to go, we're counting down the days until the 2024 Olympics in Paris. From record-breaking feats to unforgettable moments of triumph, this year's Games promise to be an unmissable experience.\n",
      "\n",
      "**Strong Conclusion that Leaves a Lasting Impression:**\n",
      "*Conclusion:* 'Don't miss out on the magic! Mark your calendars for July 26th and get ready to cheer on your favorite athletes. Stay tuned for more updates, and let us know who you're rooting for in the comments below!\n",
      "\n",
      "**Visual Suggestions (Images, Videos, Graphics):***\n",
      "- A dramatic image of the Eiffel Tower with a hint of Olympic colors\n",
      "- A video montage showcasing past Olympic moments and record-breaking achievements\n",
      "- An eye-catching graphic highlighting key events, participating countries, or athletes to watch\n",
      "\n",
      "**Relevant Hashtags and Compelling Caption:**\n",
      "*Caption:* '#2024Olympics #Paris2024 #OlympicGames #Sports #Competition #TeamSpirit' *Hashtags:* '#Paralympics2024 #SummerGames #AthletesUnite #SportingGreatness'\n",
      "\n",
      "**Potential Call-to-Actions to Drive Engagement:**\n",
      "*CTA 1:* 'Who's your favorite athlete to watch? Share in the comments below!' *CTA 2:* 'Want more Olympics updates? Follow us for exclusive behind-the-scenes content!'\n",
      "\n",
      "**Recommended Tone and Style for the Post:***\n",
      "- Inspirational\n",
      "- Uplifting\n",
      "- Energetic\n",
      "\n",
      "Let's make this post shine with engaging visuals, an electrifying tone, and a compelling caption that leaves our audience eager for more. Let's do this!\n"
     ]
    }
   ],
   "source": [
    "print(states.values.get(\"plan\"))"
   ]
  },
  {
   "cell_type": "code",
   "execution_count": 19,
   "metadata": {},
   "outputs": [
    {
     "name": "stdout",
     "output_type": "stream",
     "text": [
      "None\n"
     ]
    }
   ],
   "source": [
    "print(s.get('plan'))"
   ]
  },
  {
   "cell_type": "code",
   "execution_count": 1,
   "metadata": {},
   "outputs": [
    {
     "data": {
      "text/plain": [
       "'state_graph.png'"
      ]
     },
     "execution_count": 1,
     "metadata": {},
     "output_type": "execute_result"
    }
   ],
   "source": [
    "from graphviz import Digraph\n",
    "\n",
    "# Create a new directed graph\n",
    "dot = Digraph()\n",
    "\n",
    "# Add nodes (these are the states)\n",
    "dot.node(\"planner\", \"Planner\")\n",
    "dot.node(\"research_plan\", \"Research Plan\")\n",
    "dot.node(\"generate\", \"Generate\")\n",
    "dot.node(\"reflect\", \"Reflect\")\n",
    "dot.node(\"research_critique\", \"Research Critique\")\n",
    "dot.node(\"image_generate\", \"Image Generate\")\n",
    "dot.node(\"end\", \"END\")\n",
    "\n",
    "# Add edges with labels to represent the flow\n",
    "dot.edge(\"planner\", \"research_plan\")\n",
    "dot.edge(\"research_plan\", \"generate\")\n",
    "dot.edge(\"generate\", \"reflect\", label=\"if revisions < max\")\n",
    "dot.edge(\"generate\", \"image_generate\", label=\"if revisions == max and images exist\")\n",
    "dot.edge(\"generate\", \"end\", label=\"if revisions == max and no images\")\n",
    "dot.edge(\"reflect\", \"research_critique\")\n",
    "dot.edge(\"research_critique\", \"generate\")\n",
    "\n",
    "# Render and visualize the graph\n",
    "dot.render(\"state_graph\", format=\"png\", cleanup=True)\n"
   ]
  },
  {
   "cell_type": "markdown",
   "metadata": {},
   "source": [
    "# Images"
   ]
  },
  {
   "cell_type": "code",
   "execution_count": 15,
   "metadata": {},
   "outputs": [],
   "source": [
    "IMAGE_PROMPT_GENERATOR =\"\"\"Act as a Prompt Engineer. Analyze the user's input text, identify the context, key elements, and desired visuals. \n",
    " Develop three concise prompts for AI text to image model . Ensure the prompts are specific, clear, and comprehensive \n",
    " for accurate image generation.\n",
    " \"\"\"\n",
    "\n",
    "import os\n",
    "import requests\n",
    "import json, io\n",
    "from PIL import Image\n",
    "import base64\n",
    "\n",
    "def generate_image(prompt, api_key=\"YOUR API KEY\", model_name=\"diffusion1XL\", image_height=1024, image_width=1024,\n",
    "                   negative_prompt=None, num_output_images=1, guidance_scale=7.5, num_inference_steps=10, seed=None, output_img_type=\"pil\"):\n",
    "    payload = {\n",
    "        \"modelName\": model_name,  # DO NOT CHANGE THIS VALUE\n",
    "        \"prompt\": prompt,\n",
    "        \"prompt2\": \"\",  # Optional - Specify any additional prompt details if required\n",
    "        \"imageHeight\": image_height,  # 1024 gives the best output. Modify this based on your requirement.\n",
    "        \"imageWidth\": image_width,  # 1024 gives the best output. Modify this based on your requirement.\n",
    "        \"negativePrompt\": negative_prompt,  # Optional, mention aspects to be ignored in the output image\n",
    "        \"negativePrompt2\": None,  # Optional, mention aspects to be ignored in the output image\n",
    "        \"numOutputImages\": num_output_images,  # Optional, Defaults to 1. Max value is 5\n",
    "        \"guidanceScale\": guidance_scale,  # Optional, Defaults to 5. Optimal values are < 15.\n",
    "        \"numInferenceSteps\": num_inference_steps,  # Optional, Defaults to 50. Max value is 100.\n",
    "        \"seed\": seed,  # Optional - Leave it empty to generate a random value.\n",
    "        \"outputImgType\": output_img_type  # Optional, Defaults to pil. Supported: pil, latent.\n",
    "    }\n",
    "\n",
    "    headers = {\"content-type\": \"application/json\", \"Authorization\": f\"Bearer {api_key}\"}  # API Key\n",
    "\n",
    "    url = \"https://cloud.olakrutrim.com/v1/images/generations/diffusion\"\n",
    "    resp = requests.post(url, headers=headers, json=payload)\n",
    "\n",
    "    # Check if the response is successful\n",
    "    if resp.status_code == 200:\n",
    "        output = resp.json()\n",
    "        img_datas = output[\"data\"]\n",
    "        for index, img_data in enumerate(img_datas):\n",
    "            # Decode the base64 string to bytes\n",
    "            img_bytes = base64.b64decode(img_data[\"b64_json\"])\n",
    "\n",
    "            # Convert bytes to a PIL image\n",
    "            img = Image.open(io.BytesIO(img_bytes))\n",
    "\n",
    "            # Save the image locally (optional)\n",
    "            img.save(f\"generated_image_{index}.png\")\n",
    "\n",
    "            # Display the image\n",
    "            img.show()\n",
    "\n",
    "    else:\n",
    "        print(\"Failed to get a response from the server. Status code:\", resp.status_code)\n",
    "        print(\"Response content:\", resp.text)\n",
    "\n",
    "\n",
    "\n",
    "def prompt_plan_node(states):\n",
    "    \n",
    "    queries = model.with_structured_output(Queries).invoke([\n",
    "        SystemMessage(content=IMAGE_PROMPT_GENERATOR),\n",
    "        HumanMessage(content=states.values.get(\"task\"))\n",
    "    ])\n",
    "    print(\"Prompts Generated: \", queries.queries)\n",
    "    \n",
    "    image_paths = []\n",
    "    \n",
    "    for q in queries.queries:\n",
    "       \n",
    "        # Generate image using the prompt\n",
    "        image_path = generate_image(\n",
    "            prompt=q,\n",
    "            image_height=1024,  # Adjust these parameters as needed\n",
    "            image_width=1024\n",
    "        )\n",
    "        image_paths.append(image_path)\n",
    "    \n",
    "    \n",
    "    return {\"image_paths\": image_paths}\n",
    "\n",
    "\n",
    "\n"
   ]
  },
  {
   "cell_type": "code",
   "execution_count": null,
   "metadata": {},
   "outputs": [],
   "source": [
    "# result = prompt_plan_node(states)"
   ]
  },
  {
   "cell_type": "markdown",
   "metadata": {},
   "source": [
    "# Gradio"
   ]
  },
  {
   "cell_type": "code",
   "execution_count": 11,
   "metadata": {},
   "outputs": [],
   "source": [
    "import gradio as gr"
   ]
  },
  {
   "cell_type": "code",
   "execution_count": 13,
   "metadata": {},
   "outputs": [
    {
     "name": "stdout",
     "output_type": "stream",
     "text": [
      "Running on local URL:  http://127.0.0.1:7861\n",
      "\n",
      "To create a public link, set `share=True` in `launch()`.\n"
     ]
    },
    {
     "data": {
      "text/html": [
       "<div><iframe src=\"http://127.0.0.1:7861/\" width=\"100%\" height=\"500\" allow=\"autoplay; camera; microphone; clipboard-read; clipboard-write;\" frameborder=\"0\" allowfullscreen></iframe></div>"
      ],
      "text/plain": [
       "<IPython.core.display.HTML object>"
      ]
     },
     "metadata": {},
     "output_type": "display_data"
    },
    {
     "data": {
      "text/plain": []
     },
     "execution_count": 13,
     "metadata": {},
     "output_type": "execute_result"
    },
    {
     "name": "stdout",
     "output_type": "stream",
     "text": [
      "research_plan_node-state_task How to Grow Your Personal Brand on LinkedIn\n",
      "Resrch Plan Node  queries=['Personal branding strategies for LinkedIn professionals', 'Effective ways to increase online presence on LinkedIn', 'Tips for creating engaging content and profiles on LinkedIn']\n"
     ]
    }
   ],
   "source": [
    "# Gradio Interface\n",
    "def run_workflow(task, max_revisions):\n",
    "    state = {\n",
    "        'task': task,\n",
    "        \"max_revisions\": max_revisions,\n",
    "        \"revision_number\": 1,\n",
    "    }\n",
    "    thread = {\"configurable\": {\"thread_id\": \"1\"}}\n",
    "    outputs = []\n",
    "    with SqliteSaver.from_conn_string(\":memory:\") as checkpointer:\n",
    "        graph = builder.compile(checkpointer=checkpointer)\n",
    "        for s in graph.stream(state, thread):\n",
    "            outputs.append(s)\n",
    "    states = graph.get_state(config=thread)\n",
    "    return states\n",
    "\n",
    "def display_results(states_):\n",
    "    # states = graph.get_state(config=thread)\n",
    "    plan = states_.values.get(\"plan\")\n",
    "    draft = states_.values.get(\"draft\")\n",
    "    critique = states_.values.get(\"critique\")\n",
    "    return plan, draft, critique\n",
    "\n",
    "# Set up Gradio inputs and outputs\n",
    "task_input = gr.Textbox(label=\"Instagram Post Topic\")\n",
    "max_revisions_input = gr.Slider(1, 5, step=1, label=\"Max Revisions\", value=2)\n",
    "output_plan = gr.Textbox(label=\"Plan\")\n",
    "output_draft = gr.Textbox(label=\"Draft\")\n",
    "output_critique = gr.Textbox(label=\"Critique\")\n",
    "\n",
    "# Create Gradio interface\n",
    "iface = gr.Interface(\n",
    "    fn=lambda task, max_revisions: display_results(run_workflow(task, max_revisions)),\n",
    "    inputs=[task_input, max_revisions_input],\n",
    "    outputs=[output_plan, output_draft, output_critique],\n",
    "    title=\"Instagram Post Generator\",\n",
    "    description=\"Generate and refine Instagram posts using AI.\"\n",
    ")\n",
    "\n",
    "# Launch the interface\n",
    "iface.launch()"
   ]
  },
  {
   "cell_type": "code",
   "execution_count": null,
   "metadata": {},
   "outputs": [],
   "source": []
  }
 ],
 "metadata": {
  "kernelspec": {
   "display_name": "lang",
   "language": "python",
   "name": "python3"
  },
  "language_info": {
   "codemirror_mode": {
    "name": "ipython",
    "version": 3
   },
   "file_extension": ".py",
   "mimetype": "text/x-python",
   "name": "python",
   "nbconvert_exporter": "python",
   "pygments_lexer": "ipython3",
   "version": "3.12.4"
  }
 },
 "nbformat": 4,
 "nbformat_minor": 2
}
